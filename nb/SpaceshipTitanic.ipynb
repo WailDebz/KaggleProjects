{
  "metadata": {
    "kernelspec": {
      "language": "python",
      "display_name": "Python 3",
      "name": "python3"
    },
    "language_info": {
      "name": "python",
      "version": "3.7.12",
      "mimetype": "text/x-python",
      "codemirror_mode": {
        "name": "ipython",
        "version": 3
      },
      "pygments_lexer": "ipython3",
      "nbconvert_exporter": "python",
      "file_extension": ".py"
    },
    "colab": {
      "provenance": []
    }
  },
  "nbformat_minor": 0,
  "nbformat": 4,
  "cells": [
    {
      "cell_type": "code",
      "source": [
        "import numpy as np # linear algebra\n",
        "import pandas as pd # data processing\n",
        "import seaborn as sns #data visualization\n",
        "import matplotlib.pyplot as plt\n"
      ],
      "metadata": {
        "_uuid": "8f2839f25d086af736a60e9eeb907d3b93b6e0e5",
        "_cell_guid": "b1076dfc-b9ad-4769-8c92-a6c4dae69d19",
        "execution": {
          "iopub.status.busy": "2023-04-01T01:27:45.310233Z",
          "iopub.execute_input": "2023-04-01T01:27:45.310693Z",
          "iopub.status.idle": "2023-04-01T01:27:45.320009Z",
          "shell.execute_reply.started": "2023-04-01T01:27:45.310658Z",
          "shell.execute_reply": "2023-04-01T01:27:45.318973Z"
        },
        "trusted": true,
        "id": "xCxXyfymCtox"
      },
      "execution_count": null,
      "outputs": []
    },
    {
      "cell_type": "code",
      "source": [
        "#importing our data\n",
        "df=pd.read_csv('/content/train.csv')"
      ],
      "metadata": {
        "execution": {
          "iopub.status.busy": "2023-03-31T16:45:11.081518Z",
          "iopub.execute_input": "2023-03-31T16:45:11.082405Z",
          "iopub.status.idle": "2023-03-31T16:45:11.146069Z",
          "shell.execute_reply.started": "2023-03-31T16:45:11.082347Z",
          "shell.execute_reply": "2023-03-31T16:45:11.144464Z"
        },
        "trusted": true,
        "id": "rBmWNqlXCtoz"
      },
      "execution_count": null,
      "outputs": []
    },
    {
      "cell_type": "markdown",
      "source": [
        "# Exploratory Data Analysis"
      ],
      "metadata": {
        "id": "vEcIQv55Ctoz"
      }
    },
    {
      "cell_type": "code",
      "source": [
        "df.head()"
      ],
      "metadata": {
        "execution": {
          "iopub.status.busy": "2023-04-01T01:27:54.454390Z",
          "iopub.execute_input": "2023-04-01T01:27:54.454895Z",
          "iopub.status.idle": "2023-04-01T01:27:54.472586Z",
          "shell.execute_reply.started": "2023-04-01T01:27:54.454851Z",
          "shell.execute_reply": "2023-04-01T01:27:54.471301Z"
        },
        "trusted": true,
        "colab": {
          "base_uri": "https://localhost:8080/",
          "height": 357
        },
        "id": "eGWMBuTzCto1",
        "outputId": "09971bde-7191-485b-f91b-3abcaf3cc446"
      },
      "execution_count": null,
      "outputs": [
        {
          "output_type": "execute_result",
          "data": {
            "text/plain": [
              "  PassengerId HomePlanet CryoSleep  Cabin  Destination   Age    VIP  \\\n",
              "0     0001_01     Europa     False  B/0/P  TRAPPIST-1e  39.0  False   \n",
              "1     0002_01      Earth     False  F/0/S  TRAPPIST-1e  24.0  False   \n",
              "2     0003_01     Europa     False  A/0/S  TRAPPIST-1e  58.0   True   \n",
              "3     0003_02     Europa     False  A/0/S  TRAPPIST-1e  33.0  False   \n",
              "4     0004_01      Earth     False  F/1/S  TRAPPIST-1e  16.0  False   \n",
              "\n",
              "   RoomService  FoodCourt  ShoppingMall     Spa  VRDeck               Name  \\\n",
              "0          0.0        0.0           0.0     0.0     0.0    Maham Ofracculy   \n",
              "1        109.0        9.0          25.0   549.0    44.0       Juanna Vines   \n",
              "2         43.0     3576.0           0.0  6715.0    49.0      Altark Susent   \n",
              "3          0.0     1283.0         371.0  3329.0   193.0       Solam Susent   \n",
              "4        303.0       70.0         151.0   565.0     2.0  Willy Santantines   \n",
              "\n",
              "   Transported  \n",
              "0        False  \n",
              "1         True  \n",
              "2        False  \n",
              "3        False  \n",
              "4         True  "
            ],
            "text/html": [
              "\n",
              "  <div id=\"df-f50c9dc1-51c6-479b-8245-cf00e9c4f690\">\n",
              "    <div class=\"colab-df-container\">\n",
              "      <div>\n",
              "<style scoped>\n",
              "    .dataframe tbody tr th:only-of-type {\n",
              "        vertical-align: middle;\n",
              "    }\n",
              "\n",
              "    .dataframe tbody tr th {\n",
              "        vertical-align: top;\n",
              "    }\n",
              "\n",
              "    .dataframe thead th {\n",
              "        text-align: right;\n",
              "    }\n",
              "</style>\n",
              "<table border=\"1\" class=\"dataframe\">\n",
              "  <thead>\n",
              "    <tr style=\"text-align: right;\">\n",
              "      <th></th>\n",
              "      <th>PassengerId</th>\n",
              "      <th>HomePlanet</th>\n",
              "      <th>CryoSleep</th>\n",
              "      <th>Cabin</th>\n",
              "      <th>Destination</th>\n",
              "      <th>Age</th>\n",
              "      <th>VIP</th>\n",
              "      <th>RoomService</th>\n",
              "      <th>FoodCourt</th>\n",
              "      <th>ShoppingMall</th>\n",
              "      <th>Spa</th>\n",
              "      <th>VRDeck</th>\n",
              "      <th>Name</th>\n",
              "      <th>Transported</th>\n",
              "    </tr>\n",
              "  </thead>\n",
              "  <tbody>\n",
              "    <tr>\n",
              "      <th>0</th>\n",
              "      <td>0001_01</td>\n",
              "      <td>Europa</td>\n",
              "      <td>False</td>\n",
              "      <td>B/0/P</td>\n",
              "      <td>TRAPPIST-1e</td>\n",
              "      <td>39.0</td>\n",
              "      <td>False</td>\n",
              "      <td>0.0</td>\n",
              "      <td>0.0</td>\n",
              "      <td>0.0</td>\n",
              "      <td>0.0</td>\n",
              "      <td>0.0</td>\n",
              "      <td>Maham Ofracculy</td>\n",
              "      <td>False</td>\n",
              "    </tr>\n",
              "    <tr>\n",
              "      <th>1</th>\n",
              "      <td>0002_01</td>\n",
              "      <td>Earth</td>\n",
              "      <td>False</td>\n",
              "      <td>F/0/S</td>\n",
              "      <td>TRAPPIST-1e</td>\n",
              "      <td>24.0</td>\n",
              "      <td>False</td>\n",
              "      <td>109.0</td>\n",
              "      <td>9.0</td>\n",
              "      <td>25.0</td>\n",
              "      <td>549.0</td>\n",
              "      <td>44.0</td>\n",
              "      <td>Juanna Vines</td>\n",
              "      <td>True</td>\n",
              "    </tr>\n",
              "    <tr>\n",
              "      <th>2</th>\n",
              "      <td>0003_01</td>\n",
              "      <td>Europa</td>\n",
              "      <td>False</td>\n",
              "      <td>A/0/S</td>\n",
              "      <td>TRAPPIST-1e</td>\n",
              "      <td>58.0</td>\n",
              "      <td>True</td>\n",
              "      <td>43.0</td>\n",
              "      <td>3576.0</td>\n",
              "      <td>0.0</td>\n",
              "      <td>6715.0</td>\n",
              "      <td>49.0</td>\n",
              "      <td>Altark Susent</td>\n",
              "      <td>False</td>\n",
              "    </tr>\n",
              "    <tr>\n",
              "      <th>3</th>\n",
              "      <td>0003_02</td>\n",
              "      <td>Europa</td>\n",
              "      <td>False</td>\n",
              "      <td>A/0/S</td>\n",
              "      <td>TRAPPIST-1e</td>\n",
              "      <td>33.0</td>\n",
              "      <td>False</td>\n",
              "      <td>0.0</td>\n",
              "      <td>1283.0</td>\n",
              "      <td>371.0</td>\n",
              "      <td>3329.0</td>\n",
              "      <td>193.0</td>\n",
              "      <td>Solam Susent</td>\n",
              "      <td>False</td>\n",
              "    </tr>\n",
              "    <tr>\n",
              "      <th>4</th>\n",
              "      <td>0004_01</td>\n",
              "      <td>Earth</td>\n",
              "      <td>False</td>\n",
              "      <td>F/1/S</td>\n",
              "      <td>TRAPPIST-1e</td>\n",
              "      <td>16.0</td>\n",
              "      <td>False</td>\n",
              "      <td>303.0</td>\n",
              "      <td>70.0</td>\n",
              "      <td>151.0</td>\n",
              "      <td>565.0</td>\n",
              "      <td>2.0</td>\n",
              "      <td>Willy Santantines</td>\n",
              "      <td>True</td>\n",
              "    </tr>\n",
              "  </tbody>\n",
              "</table>\n",
              "</div>\n",
              "      <button class=\"colab-df-convert\" onclick=\"convertToInteractive('df-f50c9dc1-51c6-479b-8245-cf00e9c4f690')\"\n",
              "              title=\"Convert this dataframe to an interactive table.\"\n",
              "              style=\"display:none;\">\n",
              "        \n",
              "  <svg xmlns=\"http://www.w3.org/2000/svg\" height=\"24px\"viewBox=\"0 0 24 24\"\n",
              "       width=\"24px\">\n",
              "    <path d=\"M0 0h24v24H0V0z\" fill=\"none\"/>\n",
              "    <path d=\"M18.56 5.44l.94 2.06.94-2.06 2.06-.94-2.06-.94-.94-2.06-.94 2.06-2.06.94zm-11 1L8.5 8.5l.94-2.06 2.06-.94-2.06-.94L8.5 2.5l-.94 2.06-2.06.94zm10 10l.94 2.06.94-2.06 2.06-.94-2.06-.94-.94-2.06-.94 2.06-2.06.94z\"/><path d=\"M17.41 7.96l-1.37-1.37c-.4-.4-.92-.59-1.43-.59-.52 0-1.04.2-1.43.59L10.3 9.45l-7.72 7.72c-.78.78-.78 2.05 0 2.83L4 21.41c.39.39.9.59 1.41.59.51 0 1.02-.2 1.41-.59l7.78-7.78 2.81-2.81c.8-.78.8-2.07 0-2.86zM5.41 20L4 18.59l7.72-7.72 1.47 1.35L5.41 20z\"/>\n",
              "  </svg>\n",
              "      </button>\n",
              "      \n",
              "  <style>\n",
              "    .colab-df-container {\n",
              "      display:flex;\n",
              "      flex-wrap:wrap;\n",
              "      gap: 12px;\n",
              "    }\n",
              "\n",
              "    .colab-df-convert {\n",
              "      background-color: #E8F0FE;\n",
              "      border: none;\n",
              "      border-radius: 50%;\n",
              "      cursor: pointer;\n",
              "      display: none;\n",
              "      fill: #1967D2;\n",
              "      height: 32px;\n",
              "      padding: 0 0 0 0;\n",
              "      width: 32px;\n",
              "    }\n",
              "\n",
              "    .colab-df-convert:hover {\n",
              "      background-color: #E2EBFA;\n",
              "      box-shadow: 0px 1px 2px rgba(60, 64, 67, 0.3), 0px 1px 3px 1px rgba(60, 64, 67, 0.15);\n",
              "      fill: #174EA6;\n",
              "    }\n",
              "\n",
              "    [theme=dark] .colab-df-convert {\n",
              "      background-color: #3B4455;\n",
              "      fill: #D2E3FC;\n",
              "    }\n",
              "\n",
              "    [theme=dark] .colab-df-convert:hover {\n",
              "      background-color: #434B5C;\n",
              "      box-shadow: 0px 1px 3px 1px rgba(0, 0, 0, 0.15);\n",
              "      filter: drop-shadow(0px 1px 2px rgba(0, 0, 0, 0.3));\n",
              "      fill: #FFFFFF;\n",
              "    }\n",
              "  </style>\n",
              "\n",
              "      <script>\n",
              "        const buttonEl =\n",
              "          document.querySelector('#df-f50c9dc1-51c6-479b-8245-cf00e9c4f690 button.colab-df-convert');\n",
              "        buttonEl.style.display =\n",
              "          google.colab.kernel.accessAllowed ? 'block' : 'none';\n",
              "\n",
              "        async function convertToInteractive(key) {\n",
              "          const element = document.querySelector('#df-f50c9dc1-51c6-479b-8245-cf00e9c4f690');\n",
              "          const dataTable =\n",
              "            await google.colab.kernel.invokeFunction('convertToInteractive',\n",
              "                                                     [key], {});\n",
              "          if (!dataTable) return;\n",
              "\n",
              "          const docLinkHtml = 'Like what you see? Visit the ' +\n",
              "            '<a target=\"_blank\" href=https://colab.research.google.com/notebooks/data_table.ipynb>data table notebook</a>'\n",
              "            + ' to learn more about interactive tables.';\n",
              "          element.innerHTML = '';\n",
              "          dataTable['output_type'] = 'display_data';\n",
              "          await google.colab.output.renderOutput(dataTable, element);\n",
              "          const docLink = document.createElement('div');\n",
              "          docLink.innerHTML = docLinkHtml;\n",
              "          element.appendChild(docLink);\n",
              "        }\n",
              "      </script>\n",
              "    </div>\n",
              "  </div>\n",
              "  "
            ]
          },
          "metadata": {},
          "execution_count": 92
        }
      ]
    },
    {
      "cell_type": "markdown",
      "source": [
        "## PassengerId"
      ],
      "metadata": {
        "id": "OsMybXP-Cto1"
      }
    },
    {
      "cell_type": "code",
      "source": [
        "#let's divide the passengerid to group and number\n",
        "\n",
        "df['group'] = df['PassengerId'].str.split('_',expand=True)[0]\n",
        "df['number'] = df['PassengerId'].str.split('_',expand=True)[1]\n"
      ],
      "metadata": {
        "execution": {
          "iopub.status.busy": "2023-03-31T16:45:11.935705Z",
          "iopub.execute_input": "2023-03-31T16:45:11.936544Z",
          "iopub.status.idle": "2023-03-31T16:45:11.984362Z",
          "shell.execute_reply.started": "2023-03-31T16:45:11.936489Z",
          "shell.execute_reply": "2023-03-31T16:45:11.981965Z"
        },
        "trusted": true,
        "id": "s0Nx3F6RCto2"
      },
      "execution_count": null,
      "outputs": []
    },
    {
      "cell_type": "code",
      "source": [
        "print(df['group'].value_counts())\n",
        "print(df['number'].value_counts())"
      ],
      "metadata": {
        "execution": {
          "iopub.status.busy": "2023-03-31T16:45:12.153803Z",
          "iopub.execute_input": "2023-03-31T16:45:12.154553Z",
          "iopub.status.idle": "2023-03-31T16:45:12.174588Z",
          "shell.execute_reply.started": "2023-03-31T16:45:12.154472Z",
          "shell.execute_reply": "2023-03-31T16:45:12.172682Z"
        },
        "trusted": true,
        "colab": {
          "base_uri": "https://localhost:8080/"
        },
        "id": "QknxzZKfCto2",
        "outputId": "c7a8d718-54c1-4c38-81e2-0dcd25998522"
      },
      "execution_count": null,
      "outputs": [
        {
          "output_type": "stream",
          "name": "stdout",
          "text": [
            "4498    8\n",
            "8168    8\n",
            "8728    8\n",
            "8796    8\n",
            "8956    8\n",
            "       ..\n",
            "3483    1\n",
            "3480    1\n",
            "3478    1\n",
            "3473    1\n",
            "4620    1\n",
            "Name: group, Length: 6217, dtype: int64\n",
            "01    6217\n",
            "02    1412\n",
            "03     571\n",
            "04     231\n",
            "05     128\n",
            "06      75\n",
            "07      46\n",
            "08      13\n",
            "Name: number, dtype: int64\n"
          ]
        }
      ]
    },
    {
      "cell_type": "code",
      "source": [
        "#let's create a column in which we specify if the passenger is traveling alone or with family\n",
        "\n",
        "group_list =df['group'].tolist()\n",
        "traveling_state=[''] * len(group_list)\n",
        "\n",
        "for group in set(group_list):\n",
        "    if group_list.count(group)>1:\n",
        "        indexes=[]\n",
        "        for i in range(len(group_list)):\n",
        "\n",
        "            if group_list[i]==group:\n",
        "                indexes.append(i)\n",
        "\n",
        "        for index in indexes:\n",
        "            traveling_state[index]='family'\n",
        "\n",
        "    else:\n",
        "        traveling_state[group_list.index(group)]='alone'\n",
        "df['traveling_state']=pd.DataFrame(traveling_state)\n",
        "df=df.drop(['PassengerId','group','number'],axis=1)"
      ],
      "metadata": {
        "execution": {
          "iopub.status.busy": "2023-03-31T16:45:12.411945Z",
          "iopub.execute_input": "2023-03-31T16:45:12.412690Z",
          "iopub.status.idle": "2023-03-31T16:45:15.722674Z",
          "shell.execute_reply.started": "2023-03-31T16:45:12.412613Z",
          "shell.execute_reply": "2023-03-31T16:45:15.721287Z"
        },
        "trusted": true,
        "id": "KQIFho87Cto2"
      },
      "execution_count": null,
      "outputs": []
    },
    {
      "cell_type": "code",
      "source": [
        "#let's see the ratio of each of traveling states using a pieplot\n",
        "traveling_state=df['traveling_state'].value_counts().tolist()\n",
        "plt.pie(traveling_state,labels=df['traveling_state'].value_counts().keys())"
      ],
      "metadata": {
        "execution": {
          "iopub.status.busy": "2023-03-31T16:45:15.725438Z",
          "iopub.execute_input": "2023-03-31T16:45:15.725945Z",
          "iopub.status.idle": "2023-03-31T16:45:15.901675Z",
          "shell.execute_reply.started": "2023-03-31T16:45:15.725893Z",
          "shell.execute_reply": "2023-03-31T16:45:15.899677Z"
        },
        "trusted": true,
        "colab": {
          "base_uri": "https://localhost:8080/",
          "height": 475
        },
        "id": "hXhEgEqjCto2",
        "outputId": "3cc6ce90-0f5e-455f-d073-faa776eea68e"
      },
      "execution_count": null,
      "outputs": [
        {
          "output_type": "execute_result",
          "data": {
            "text/plain": [
              "([<matplotlib.patches.Wedge at 0x7f1266a0e6e0>,\n",
              "  <matplotlib.patches.Wedge at 0x7f1266a0e5c0>],\n",
              " [Text(-0.18143592204911338, 1.0849336413763693, 'alone'),\n",
              "  Text(0.18143602362793088, -1.0849336243891075, 'family')])"
            ]
          },
          "metadata": {},
          "execution_count": 96
        },
        {
          "output_type": "display_data",
          "data": {
            "text/plain": [
              "<Figure size 640x480 with 1 Axes>"
            ],
            "image/png": "[encoded data removed]"
          },
          "metadata": {}
        }
      ]
    },
    {
      "cell_type": "code",
      "source": [
        "#let's see which group of passengers had a better chance to be transported using a histogramme\n",
        "sns.catplot(\n",
        "    data=df, kind=\"bar\",\n",
        "    y=\"traveling_state\", x=\"Transported\", hue=\"traveling_state\",\n",
        "     palette=\"dark\", alpha=.6, height=4,orient='h'\n",
        ")"
      ],
      "metadata": {
        "execution": {
          "iopub.status.busy": "2023-03-31T16:45:15.907638Z",
          "iopub.execute_input": "2023-03-31T16:45:15.909927Z",
          "iopub.status.idle": "2023-03-31T16:45:16.414723Z",
          "shell.execute_reply.started": "2023-03-31T16:45:15.909820Z",
          "shell.execute_reply": "2023-03-31T16:45:16.413624Z"
        },
        "trusted": true,
        "colab": {
          "base_uri": "https://localhost:8080/",
          "height": 418
        },
        "id": "F8kmlc5rCto3",
        "outputId": "65a95267-0733-42b9-d483-552c36a7f87b"
      },
      "execution_count": null,
      "outputs": [
        {
          "output_type": "execute_result",
          "data": {
            "text/plain": [
              "<seaborn.axisgrid.FacetGrid at 0x7f1268fa2890>"
            ]
          },
          "metadata": {},
          "execution_count": 97
        },
        {
          "output_type": "display_data",
          "data": {
            "text/plain": [
              "<Figure size 536.597x400 with 1 Axes>"
            ],
            "image/png": "[encoded data removed]"
          },
          "metadata": {}
        }
      ]
    },
    {
      "cell_type": "markdown",
      "source": [
        "* most of the passengers are traveling alone\n",
        "* seems like passengers who traveled as a family has more potentiel to be transported"
      ],
      "metadata": {
        "id": "FbZ2XH2dCto3"
      }
    },
    {
      "cell_type": "markdown",
      "source": [
        "## HomePlanet"
      ],
      "metadata": {
        "id": "UO35YgGmCto3"
      }
    },
    {
      "cell_type": "code",
      "source": [
        "df"
      ],
      "metadata": {
        "execution": {
          "iopub.status.busy": "2023-03-31T16:45:16.417096Z",
          "iopub.execute_input": "2023-03-31T16:45:16.417761Z",
          "iopub.status.idle": "2023-03-31T16:45:16.458701Z",
          "shell.execute_reply.started": "2023-03-31T16:45:16.417719Z",
          "shell.execute_reply": "2023-03-31T16:45:16.456684Z"
        },
        "trusted": true,
        "colab": {
          "base_uri": "https://localhost:8080/",
          "height": 661
        },
        "id": "ClyIGyZ1Cto3",
        "outputId": "0146d164-2d7d-485f-cbc6-a62e8adc24a7"
      },
      "execution_count": null,
      "outputs": [
        {
          "output_type": "execute_result",
          "data": {
            "text/plain": [
              "     HomePlanet CryoSleep     Cabin    Destination   Age    VIP  RoomService  \\\n",
              "0        Europa     False     B/0/P    TRAPPIST-1e  39.0  False          0.0   \n",
              "1         Earth     False     F/0/S    TRAPPIST-1e  24.0  False        109.0   \n",
              "2        Europa     False     A/0/S    TRAPPIST-1e  58.0   True         43.0   \n",
              "3        Europa     False     A/0/S    TRAPPIST-1e  33.0  False          0.0   \n",
              "4         Earth     False     F/1/S    TRAPPIST-1e  16.0  False        303.0   \n",
              "...         ...       ...       ...            ...   ...    ...          ...   \n",
              "8688     Europa     False    A/98/P    55 Cancri e  41.0   True          0.0   \n",
              "8689      Earth      True  G/1499/S  PSO J318.5-22  18.0  False          0.0   \n",
              "8690      Earth     False  G/1500/S    TRAPPIST-1e  26.0  False          0.0   \n",
              "8691     Europa     False   E/608/S    55 Cancri e  32.0  False          0.0   \n",
              "8692     Europa     False   E/608/S    TRAPPIST-1e  44.0  False        126.0   \n",
              "\n",
              "      FoodCourt  ShoppingMall     Spa  VRDeck               Name  Transported  \\\n",
              "0           0.0           0.0     0.0     0.0    Maham Ofracculy        False   \n",
              "1           9.0          25.0   549.0    44.0       Juanna Vines         True   \n",
              "2        3576.0           0.0  6715.0    49.0      Altark Susent        False   \n",
              "3        1283.0         371.0  3329.0   193.0       Solam Susent        False   \n",
              "4          70.0         151.0   565.0     2.0  Willy Santantines         True   \n",
              "...         ...           ...     ...     ...                ...          ...   \n",
              "8688     6819.0           0.0  1643.0    74.0  Gravior Noxnuther        False   \n",
              "8689        0.0           0.0     0.0     0.0    Kurta Mondalley        False   \n",
              "8690        0.0        1872.0     1.0     0.0       Fayey Connon         True   \n",
              "8691     1049.0           0.0   353.0  3235.0   Celeon Hontichre        False   \n",
              "8692     4688.0           0.0     0.0    12.0   Propsh Hontichre         True   \n",
              "\n",
              "     traveling_state  \n",
              "0              alone  \n",
              "1              alone  \n",
              "2             family  \n",
              "3             family  \n",
              "4              alone  \n",
              "...              ...  \n",
              "8688           alone  \n",
              "8689           alone  \n",
              "8690           alone  \n",
              "8691          family  \n",
              "8692          family  \n",
              "\n",
              "[8693 rows x 14 columns]"
            ],
            "text/html": [
              "\n",
              "  <div id=\"df-8dba0f40-7d17-46f6-91bf-b02019b411f8\">\n",
              "    <div class=\"colab-df-container\">\n",
              "      <div>\n",
              "<style scoped>\n",
              "    .dataframe tbody tr th:only-of-type {\n",
              "        vertical-align: middle;\n",
              "    }\n",
              "\n",
              "    .dataframe tbody tr th {\n",
              "        vertical-align: top;\n",
              "    }\n",
              "\n",
              "    .dataframe thead th {\n",
              "        text-align: right;\n",
              "    }\n",
              "</style>\n",
              "<table border=\"1\" class=\"dataframe\">\n",
              "  <thead>\n",
              "    <tr style=\"text-align: right;\">\n",
              "      <th></th>\n",
              "      <th>HomePlanet</th>\n",
              "      <th>CryoSleep</th>\n",
              "      <th>Cabin</th>\n",
              "      <th>Destination</th>\n",
              "      <th>Age</th>\n",
              "      <th>VIP</th>\n",
              "      <th>RoomService</th>\n",
              "      <th>FoodCourt</th>\n",
              "      <th>ShoppingMall</th>\n",
              "      <th>Spa</th>\n",
              "      <th>VRDeck</th>\n",
              "      <th>Name</th>\n",
              "      <th>Transported</th>\n",
              "      <th>traveling_state</th>\n",
              "    </tr>\n",
              "  </thead>\n",
              "  <tbody>\n",
              "    <tr>\n",
              "      <th>0</th>\n",
              "      <td>Europa</td>\n",
              "      <td>False</td>\n",
              "      <td>B/0/P</td>\n",
              "      <td>TRAPPIST-1e</td>\n",
              "      <td>39.0</td>\n",
              "      <td>False</td>\n",
              "      <td>0.0</td>\n",
              "      <td>0.0</td>\n",
              "      <td>0.0</td>\n",
              "      <td>0.0</td>\n",
              "      <td>0.0</td>\n",
              "      <td>Maham Ofracculy</td>\n",
              "      <td>False</td>\n",
              "      <td>alone</td>\n",
              "    </tr>\n",
              "    <tr>\n",
              "      <th>1</th>\n",
              "      <td>Earth</td>\n",
              "      <td>False</td>\n",
              "      <td>F/0/S</td>\n",
              "      <td>TRAPPIST-1e</td>\n",
              "      <td>24.0</td>\n",
              "      <td>False</td>\n",
              "      <td>109.0</td>\n",
              "      <td>9.0</td>\n",
              "      <td>25.0</td>\n",
              "      <td>549.0</td>\n",
              "      <td>44.0</td>\n",
              "      <td>Juanna Vines</td>\n",
              "      <td>True</td>\n",
              "      <td>alone</td>\n",
              "    </tr>\n",
              "    <tr>\n",
              "      <th>2</th>\n",
              "      <td>Europa</td>\n",
              "      <td>False</td>\n",
              "      <td>A/0/S</td>\n",
              "      <td>TRAPPIST-1e</td>\n",
              "      <td>58.0</td>\n",
              "      <td>True</td>\n",
              "      <td>43.0</td>\n",
              "      <td>3576.0</td>\n",
              "      <td>0.0</td>\n",
              "      <td>6715.0</td>\n",
              "      <td>49.0</td>\n",
              "      <td>Altark Susent</td>\n",
              "      <td>False</td>\n",
              "      <td>family</td>\n",
              "    </tr>\n",
              "    <tr>\n",
              "      <th>3</th>\n",
              "      <td>Europa</td>\n",
              "      <td>False</td>\n",
              "      <td>A/0/S</td>\n",
              "      <td>TRAPPIST-1e</td>\n",
              "      <td>33.0</td>\n",
              "      <td>False</td>\n",
              "      <td>0.0</td>\n",
              "      <td>1283.0</td>\n",
              "      <td>371.0</td>\n",
              "      <td>3329.0</td>\n",
              "      <td>193.0</td>\n",
              "      <td>Solam Susent</td>\n",
              "      <td>False</td>\n",
              "      <td>family</td>\n",
              "    </tr>\n",
              "    <tr>\n",
              "      <th>4</th>\n",
              "      <td>Earth</td>\n",
              "      <td>False</td>\n",
              "      <td>F/1/S</td>\n",
              "      <td>TRAPPIST-1e</td>\n",
              "      <td>16.0</td>\n",
              "      <td>False</td>\n",
              "      <td>303.0</td>\n",
              "      <td>70.0</td>\n",
              "      <td>151.0</td>\n",
              "      <td>565.0</td>\n",
              "      <td>2.0</td>\n",
              "      <td>Willy Santantines</td>\n",
              "      <td>True</td>\n",
              "      <td>alone</td>\n",
              "    </tr>\n",
              "    <tr>\n",
              "      <th>...</th>\n",
              "      <td>...</td>\n",
              "      <td>...</td>\n",
              "      <td>...</td>\n",
              "      <td>...</td>\n",
              "      <td>...</td>\n",
              "      <td>...</td>\n",
              "      <td>...</td>\n",
              "      <td>...</td>\n",
              "      <td>...</td>\n",
              "      <td>...</td>\n",
              "      <td>...</td>\n",
              "      <td>...</td>\n",
              "      <td>...</td>\n",
              "      <td>...</td>\n",
              "    </tr>\n",
              "    <tr>\n",
              "      <th>8688</th>\n",
              "      <td>Europa</td>\n",
              "      <td>False</td>\n",
              "      <td>A/98/P</td>\n",
              "      <td>55 Cancri e</td>\n",
              "      <td>41.0</td>\n",
              "      <td>True</td>\n",
              "      <td>0.0</td>\n",
              "      <td>6819.0</td>\n",
              "      <td>0.0</td>\n",
              "      <td>1643.0</td>\n",
              "      <td>74.0</td>\n",
              "      <td>Gravior Noxnuther</td>\n",
              "      <td>False</td>\n",
              "      <td>alone</td>\n",
              "    </tr>\n",
              "    <tr>\n",
              "      <th>8689</th>\n",
              "      <td>Earth</td>\n",
              "      <td>True</td>\n",
              "      <td>G/1499/S</td>\n",
              "      <td>PSO J318.5-22</td>\n",
              "      <td>18.0</td>\n",
              "      <td>False</td>\n",
              "      <td>0.0</td>\n",
              "      <td>0.0</td>\n",
              "      <td>0.0</td>\n",
              "      <td>0.0</td>\n",
              "      <td>0.0</td>\n",
              "      <td>Kurta Mondalley</td>\n",
              "      <td>False</td>\n",
              "      <td>alone</td>\n",
              "    </tr>\n",
              "    <tr>\n",
              "      <th>8690</th>\n",
              "      <td>Earth</td>\n",
              "      <td>False</td>\n",
              "      <td>G/1500/S</td>\n",
              "      <td>TRAPPIST-1e</td>\n",
              "      <td>26.0</td>\n",
              "      <td>False</td>\n",
              "      <td>0.0</td>\n",
              "      <td>0.0</td>\n",
              "      <td>1872.0</td>\n",
              "      <td>1.0</td>\n",
              "      <td>0.0</td>\n",
              "      <td>Fayey Connon</td>\n",
              "      <td>True</td>\n",
              "      <td>alone</td>\n",
              "    </tr>\n",
              "    <tr>\n",
              "      <th>8691</th>\n",
              "      <td>Europa</td>\n",
              "      <td>False</td>\n",
              "      <td>E/608/S</td>\n",
              "      <td>55 Cancri e</td>\n",
              "      <td>32.0</td>\n",
              "      <td>False</td>\n",
              "      <td>0.0</td>\n",
              "      <td>1049.0</td>\n",
              "      <td>0.0</td>\n",
              "      <td>353.0</td>\n",
              "      <td>3235.0</td>\n",
              "      <td>Celeon Hontichre</td>\n",
              "      <td>False</td>\n",
              "      <td>family</td>\n",
              "    </tr>\n",
              "    <tr>\n",
              "      <th>8692</th>\n",
              "      <td>Europa</td>\n",
              "      <td>False</td>\n",
              "      <td>E/608/S</td>\n",
              "      <td>TRAPPIST-1e</td>\n",
              "      <td>44.0</td>\n",
              "      <td>False</td>\n",
              "      <td>126.0</td>\n",
              "      <td>4688.0</td>\n",
              "      <td>0.0</td>\n",
              "      <td>0.0</td>\n",
              "      <td>12.0</td>\n",
              "      <td>Propsh Hontichre</td>\n",
              "      <td>True</td>\n",
              "      <td>family</td>\n",
              "    </tr>\n",
              "  </tbody>\n",
              "</table>\n",
              "<p>8693 rows × 14 columns</p>\n",
              "</div>\n",
              "      <button class=\"colab-df-convert\" onclick=\"convertToInteractive('df-8dba0f40-7d17-46f6-91bf-b02019b411f8')\"\n",
              "              title=\"Convert this dataframe to an interactive table.\"\n",
              "              style=\"display:none;\">\n",
              "        \n",
              "  <svg xmlns=\"http://www.w3.org/2000/svg\" height=\"24px\"viewBox=\"0 0 24 24\"\n",
              "       width=\"24px\">\n",
              "    <path d=\"M0 0h24v24H0V0z\" fill=\"none\"/>\n",
              "    <path d=\"M18.56 5.44l.94 2.06.94-2.06 2.06-.94-2.06-.94-.94-2.06-.94 2.06-2.06.94zm-11 1L8.5 8.5l.94-2.06 2.06-.94-2.06-.94L8.5 2.5l-.94 2.06-2.06.94zm10 10l.94 2.06.94-2.06 2.06-.94-2.06-.94-.94-2.06-.94 2.06-2.06.94z\"/><path d=\"M17.41 7.96l-1.37-1.37c-.4-.4-.92-.59-1.43-.59-.52 0-1.04.2-1.43.59L10.3 9.45l-7.72 7.72c-.78.78-.78 2.05 0 2.83L4 21.41c.39.39.9.59 1.41.59.51 0 1.02-.2 1.41-.59l7.78-7.78 2.81-2.81c.8-.78.8-2.07 0-2.86zM5.41 20L4 18.59l7.72-7.72 1.47 1.35L5.41 20z\"/>\n",
              "  </svg>\n",
              "      </button>\n",
              "      \n",
              "  <style>\n",
              "    .colab-df-container {\n",
              "      display:flex;\n",
              "      flex-wrap:wrap;\n",
              "      gap: 12px;\n",
              "    }\n",
              "\n",
              "    .colab-df-convert {\n",
              "      background-color: #E8F0FE;\n",
              "      border: none;\n",
              "      border-radius: 50%;\n",
              "      cursor: pointer;\n",
              "      display: none;\n",
              "      fill: #1967D2;\n",
              "      height: 32px;\n",
              "      padding: 0 0 0 0;\n",
              "      width: 32px;\n",
              "    }\n",
              "\n",
              "    .colab-df-convert:hover {\n",
              "      background-color: #E2EBFA;\n",
              "      box-shadow: 0px 1px 2px rgba(60, 64, 67, 0.3), 0px 1px 3px 1px rgba(60, 64, 67, 0.15);\n",
              "      fill: #174EA6;\n",
              "    }\n",
              "\n",
              "    [theme=dark] .colab-df-convert {\n",
              "      background-color: #3B4455;\n",
              "      fill: #D2E3FC;\n",
              "    }\n",
              "\n",
              "    [theme=dark] .colab-df-convert:hover {\n",
              "      background-color: #434B5C;\n",
              "      box-shadow: 0px 1px 3px 1px rgba(0, 0, 0, 0.15);\n",
              "      filter: drop-shadow(0px 1px 2px rgba(0, 0, 0, 0.3));\n",
              "      fill: #FFFFFF;\n",
              "    }\n",
              "  </style>\n",
              "\n",
              "      <script>\n",
              "        const buttonEl =\n",
              "          document.querySelector('#df-8dba0f40-7d17-46f6-91bf-b02019b411f8 button.colab-df-convert');\n",
              "        buttonEl.style.display =\n",
              "          google.colab.kernel.accessAllowed ? 'block' : 'none';\n",
              "\n",
              "        async function convertToInteractive(key) {\n",
              "          const element = document.querySelector('#df-8dba0f40-7d17-46f6-91bf-b02019b411f8');\n",
              "          const dataTable =\n",
              "            await google.colab.kernel.invokeFunction('convertToInteractive',\n",
              "                                                     [key], {});\n",
              "          if (!dataTable) return;\n",
              "\n",
              "          const docLinkHtml = 'Like what you see? Visit the ' +\n",
              "            '<a target=\"_blank\" href=https://colab.research.google.com/notebooks/data_table.ipynb>data table notebook</a>'\n",
              "            + ' to learn more about interactive tables.';\n",
              "          element.innerHTML = '';\n",
              "          dataTable['output_type'] = 'display_data';\n",
              "          await google.colab.output.renderOutput(dataTable, element);\n",
              "          const docLink = document.createElement('div');\n",
              "          docLink.innerHTML = docLinkHtml;\n",
              "          element.appendChild(docLink);\n",
              "        }\n",
              "      </script>\n",
              "    </div>\n",
              "  </div>\n",
              "  "
            ]
          },
          "metadata": {},
          "execution_count": 98
        }
      ]
    },
    {
      "cell_type": "code",
      "source": [
        "#let's visualize the categories of HomePlanet\n",
        "HomePlanet=df['HomePlanet'].value_counts().tolist()\n",
        "HomePlanet\n",
        "plt.pie(HomePlanet,labels=df['HomePlanet'].value_counts().keys())"
      ],
      "metadata": {
        "execution": {
          "iopub.status.busy": "2023-03-31T16:45:16.460492Z",
          "iopub.execute_input": "2023-03-31T16:45:16.462550Z",
          "iopub.status.idle": "2023-03-31T16:45:16.576393Z",
          "shell.execute_reply.started": "2023-03-31T16:45:16.462491Z",
          "shell.execute_reply": "2023-03-31T16:45:16.574226Z"
        },
        "trusted": true,
        "colab": {
          "base_uri": "https://localhost:8080/",
          "height": 510
        },
        "id": "0yjgZM3LCto3",
        "outputId": "23b17d41-3b5b-4efd-bbff-5e81c07ac2ff"
      },
      "execution_count": null,
      "outputs": [
        {
          "output_type": "execute_result",
          "data": {
            "text/plain": [
              "([<matplotlib.patches.Wedge at 0x7f1266adf910>,\n",
              "  <matplotlib.patches.Wedge at 0x7f1266adf7f0>,\n",
              "  <matplotlib.patches.Wedge at 0x7f1266a64220>],\n",
              " [Text(-0.14445288072599838, 1.0904739177302503, 'Earth'),\n",
              "  Text(-0.5456478714190157, -0.955127426271436, 'Europa'),\n",
              "  Text(0.8752009735838737, -0.6663507003356715, 'Mars')])"
            ]
          },
          "metadata": {},
          "execution_count": 99
        },
        {
          "output_type": "display_data",
          "data": {
            "text/plain": [
              "<Figure size 640x480 with 1 Axes>"
            ],
            "image/png": "[encoded data removed]"
          },
          "metadata": {}
        }
      ]
    },
    {
      "cell_type": "code",
      "source": [
        "#let's see which planet has more transported passengers\n",
        "sns.catplot(data=df, kind=\"bar\",\n",
        "    y=\"HomePlanet\", x=\"Transported\", hue=\"HomePlanet\",\n",
        "     palette=\"dark\", alpha=.6, height=4,orient='h'\n",
        "    )"
      ],
      "metadata": {
        "execution": {
          "iopub.status.busy": "2023-03-31T16:45:16.578985Z",
          "iopub.execute_input": "2023-03-31T16:45:16.579871Z",
          "iopub.status.idle": "2023-03-31T16:45:17.288636Z",
          "shell.execute_reply.started": "2023-03-31T16:45:16.579789Z",
          "shell.execute_reply": "2023-03-31T16:45:17.287110Z"
        },
        "trusted": true,
        "colab": {
          "base_uri": "https://localhost:8080/",
          "height": 418
        },
        "id": "ByfOb_ErCto4",
        "outputId": "2119208e-5a7f-4e13-f576-7cd12d6decd4"
      },
      "execution_count": null,
      "outputs": [
        {
          "output_type": "execute_result",
          "data": {
            "text/plain": [
              "<seaborn.axisgrid.FacetGrid at 0x7f1268bca440>"
            ]
          },
          "metadata": {},
          "execution_count": 100
        },
        {
          "output_type": "display_data",
          "data": {
            "text/plain": [
              "<Figure size 513.472x400 with 1 Axes>"
            ],
            "image/png": "[encoded data removed]"
          },
          "metadata": {}
        }
      ]
    },
    {
      "cell_type": "markdown",
      "source": [
        "* even tho Earth has the most number of passengers , its passengers has the lowest chance to be transported\n",
        "* Europa passengers are more likely to be transported"
      ],
      "metadata": {
        "id": "Lrlc32p2Cto4"
      }
    },
    {
      "cell_type": "markdown",
      "source": [
        "## CryoSleep"
      ],
      "metadata": {
        "id": "nSKqJm05Cto4"
      }
    },
    {
      "cell_type": "code",
      "source": [
        "#let's see if most passengers in cryosleep are confined to their cabins\n",
        "plt.pie(df['CryoSleep'].value_counts().tolist(),labels=df['CryoSleep'].value_counts().keys())"
      ],
      "metadata": {
        "execution": {
          "iopub.status.busy": "2023-03-31T16:45:17.290345Z",
          "iopub.execute_input": "2023-03-31T16:45:17.291303Z",
          "iopub.status.idle": "2023-03-31T16:45:17.410274Z",
          "shell.execute_reply.started": "2023-03-31T16:45:17.291259Z",
          "shell.execute_reply": "2023-03-31T16:45:17.408431Z"
        },
        "trusted": true,
        "colab": {
          "base_uri": "https://localhost:8080/",
          "height": 475
        },
        "id": "4bj5jRwyCto4",
        "outputId": "d3db801a-a4b3-43be-bed4-d28aba5238e4"
      },
      "execution_count": null,
      "outputs": [
        {
          "output_type": "execute_result",
          "data": {
            "text/plain": [
              "([<matplotlib.patches.Wedge at 0x7f12668ba260>,\n",
              "  <matplotlib.patches.Wedge at 0x7f12668ba140>],\n",
              " [Text(-0.47364804717575937, 0.9928028643223135, 'False'),\n",
              "  Text(0.4736480471757592, -0.9928028643223135, 'True')])"
            ]
          },
          "metadata": {},
          "execution_count": 101
        },
        {
          "output_type": "display_data",
          "data": {
            "text/plain": [
              "<Figure size 640x480 with 1 Axes>"
            ],
            "image/png": "[encoded data removed]"
          },
          "metadata": {}
        }
      ]
    },
    {
      "cell_type": "code",
      "source": [
        "#let's see who has more potentiel to be transported\n",
        "sns.catplot(data=df, kind=\"bar\",\n",
        "    y=\"CryoSleep\", x=\"Transported\", hue=\"CryoSleep\",\n",
        "     palette=\"dark\", alpha=.6, height=4,orient='h')"
      ],
      "metadata": {
        "execution": {
          "iopub.status.busy": "2023-03-31T16:45:17.413027Z",
          "iopub.execute_input": "2023-03-31T16:45:17.414246Z",
          "iopub.status.idle": "2023-03-31T16:45:18.048875Z",
          "shell.execute_reply.started": "2023-03-31T16:45:17.414165Z",
          "shell.execute_reply": "2023-03-31T16:45:18.047479Z"
        },
        "trusted": true,
        "colab": {
          "base_uri": "https://localhost:8080/",
          "height": 418
        },
        "id": "t_6RwJuaCto4",
        "outputId": "06819adc-188f-469a-c07f-1eec319e75d2"
      },
      "execution_count": null,
      "outputs": [
        {
          "output_type": "execute_result",
          "data": {
            "text/plain": [
              "<seaborn.axisgrid.FacetGrid at 0x7f1266942c20>"
            ]
          },
          "metadata": {},
          "execution_count": 102
        },
        {
          "output_type": "display_data",
          "data": {
            "text/plain": [
              "<Figure size 496.722x400 with 1 Axes>"
            ],
            "image/png": "[encoded data removed]"
          },
          "metadata": {}
        }
      ]
    },
    {
      "cell_type": "markdown",
      "source": [
        "* turned out that most passengers are not in cryosleep\n",
        "* even tho , people who are in cryosleep has more potentiel to be transported , it shows a high correlation"
      ],
      "metadata": {
        "id": "zCCVRPLzCto5"
      }
    },
    {
      "cell_type": "markdown",
      "source": [
        "## Cabin"
      ],
      "metadata": {
        "id": "bAjAuj2uCto5"
      }
    },
    {
      "cell_type": "code",
      "source": [
        "#cabin is written in a deck/num/side form\n",
        "#let's create a column for each to see the influence of these parameters on the transportation\n",
        "df[['Deck','Num','Side']]=df['Cabin'].str.split('/',expand=True)"
      ],
      "metadata": {
        "execution": {
          "iopub.status.busy": "2023-03-31T16:45:18.050987Z",
          "iopub.execute_input": "2023-03-31T16:45:18.051870Z",
          "iopub.status.idle": "2023-03-31T16:45:18.078146Z",
          "shell.execute_reply.started": "2023-03-31T16:45:18.051816Z",
          "shell.execute_reply": "2023-03-31T16:45:18.077019Z"
        },
        "trusted": true,
        "id": "MJuN3vY1Cto5"
      },
      "execution_count": null,
      "outputs": []
    },
    {
      "cell_type": "code",
      "source": [
        "df=df.drop('Cabin',axis=1)"
      ],
      "metadata": {
        "execution": {
          "iopub.status.busy": "2023-03-31T16:45:18.082886Z",
          "iopub.execute_input": "2023-03-31T16:45:18.083913Z",
          "iopub.status.idle": "2023-03-31T16:45:18.093844Z",
          "shell.execute_reply.started": "2023-03-31T16:45:18.083846Z",
          "shell.execute_reply": "2023-03-31T16:45:18.092370Z"
        },
        "trusted": true,
        "id": "Zm9-PKWOCto5"
      },
      "execution_count": null,
      "outputs": []
    },
    {
      "cell_type": "code",
      "source": [
        "df.head()"
      ],
      "metadata": {
        "execution": {
          "iopub.status.busy": "2023-03-31T16:45:18.096420Z",
          "iopub.execute_input": "2023-03-31T16:45:18.097436Z",
          "iopub.status.idle": "2023-03-31T16:45:18.127144Z",
          "shell.execute_reply.started": "2023-03-31T16:45:18.097377Z",
          "shell.execute_reply": "2023-03-31T16:45:18.125446Z"
        },
        "trusted": true,
        "colab": {
          "base_uri": "https://localhost:8080/",
          "height": 357
        },
        "id": "d9cYWW0mCto5",
        "outputId": "3bf0c3bd-63db-4786-eb83-633467e360df"
      },
      "execution_count": null,
      "outputs": [
        {
          "output_type": "execute_result",
          "data": {
            "text/plain": [
              "  HomePlanet CryoSleep  Destination   Age    VIP  RoomService  FoodCourt  \\\n",
              "0     Europa     False  TRAPPIST-1e  39.0  False          0.0        0.0   \n",
              "1      Earth     False  TRAPPIST-1e  24.0  False        109.0        9.0   \n",
              "2     Europa     False  TRAPPIST-1e  58.0   True         43.0     3576.0   \n",
              "3     Europa     False  TRAPPIST-1e  33.0  False          0.0     1283.0   \n",
              "4      Earth     False  TRAPPIST-1e  16.0  False        303.0       70.0   \n",
              "\n",
              "   ShoppingMall     Spa  VRDeck               Name  Transported  \\\n",
              "0           0.0     0.0     0.0    Maham Ofracculy        False   \n",
              "1          25.0   549.0    44.0       Juanna Vines         True   \n",
              "2           0.0  6715.0    49.0      Altark Susent        False   \n",
              "3         371.0  3329.0   193.0       Solam Susent        False   \n",
              "4         151.0   565.0     2.0  Willy Santantines         True   \n",
              "\n",
              "  traveling_state Deck Num Side  \n",
              "0           alone    B   0    P  \n",
              "1           alone    F   0    S  \n",
              "2          family    A   0    S  \n",
              "3          family    A   0    S  \n",
              "4           alone    F   1    S  "
            ],
            "text/html": [
              "\n",
              "  <div id=\"df-f6f97281-a133-424e-a122-d492cceab9a4\">\n",
              "    <div class=\"colab-df-container\">\n",
              "      <div>\n",
              "<style scoped>\n",
              "    .dataframe tbody tr th:only-of-type {\n",
              "        vertical-align: middle;\n",
              "    }\n",
              "\n",
              "    .dataframe tbody tr th {\n",
              "        vertical-align: top;\n",
              "    }\n",
              "\n",
              "    .dataframe thead th {\n",
              "        text-align: right;\n",
              "    }\n",
              "</style>\n",
              "<table border=\"1\" class=\"dataframe\">\n",
              "  <thead>\n",
              "    <tr style=\"text-align: right;\">\n",
              "      <th></th>\n",
              "      <th>HomePlanet</th>\n",
              "      <th>CryoSleep</th>\n",
              "      <th>Destination</th>\n",
              "      <th>Age</th>\n",
              "      <th>VIP</th>\n",
              "      <th>RoomService</th>\n",
              "      <th>FoodCourt</th>\n",
              "      <th>ShoppingMall</th>\n",
              "      <th>Spa</th>\n",
              "      <th>VRDeck</th>\n",
              "      <th>Name</th>\n",
              "      <th>Transported</th>\n",
              "      <th>traveling_state</th>\n",
              "      <th>Deck</th>\n",
              "      <th>Num</th>\n",
              "      <th>Side</th>\n",
              "    </tr>\n",
              "  </thead>\n",
              "  <tbody>\n",
              "    <tr>\n",
              "      <th>0</th>\n",
              "      <td>Europa</td>\n",
              "      <td>False</td>\n",
              "      <td>TRAPPIST-1e</td>\n",
              "      <td>39.0</td>\n",
              "      <td>False</td>\n",
              "      <td>0.0</td>\n",
              "      <td>0.0</td>\n",
              "      <td>0.0</td>\n",
              "      <td>0.0</td>\n",
              "      <td>0.0</td>\n",
              "      <td>Maham Ofracculy</td>\n",
              "      <td>False</td>\n",
              "      <td>alone</td>\n",
              "      <td>B</td>\n",
              "      <td>0</td>\n",
              "      <td>P</td>\n",
              "    </tr>\n",
              "    <tr>\n",
              "      <th>1</th>\n",
              "      <td>Earth</td>\n",
              "      <td>False</td>\n",
              "      <td>TRAPPIST-1e</td>\n",
              "      <td>24.0</td>\n",
              "      <td>False</td>\n",
              "      <td>109.0</td>\n",
              "      <td>9.0</td>\n",
              "      <td>25.0</td>\n",
              "      <td>549.0</td>\n",
              "      <td>44.0</td>\n",
              "      <td>Juanna Vines</td>\n",
              "      <td>True</td>\n",
              "      <td>alone</td>\n",
              "      <td>F</td>\n",
              "      <td>0</td>\n",
              "      <td>S</td>\n",
              "    </tr>\n",
              "    <tr>\n",
              "      <th>2</th>\n",
              "      <td>Europa</td>\n",
              "      <td>False</td>\n",
              "      <td>TRAPPIST-1e</td>\n",
              "      <td>58.0</td>\n",
              "      <td>True</td>\n",
              "      <td>43.0</td>\n",
              "      <td>3576.0</td>\n",
              "      <td>0.0</td>\n",
              "      <td>6715.0</td>\n",
              "      <td>49.0</td>\n",
              "      <td>Altark Susent</td>\n",
              "      <td>False</td>\n",
              "      <td>family</td>\n",
              "      <td>A</td>\n",
              "      <td>0</td>\n",
              "      <td>S</td>\n",
              "    </tr>\n",
              "    <tr>\n",
              "      <th>3</th>\n",
              "      <td>Europa</td>\n",
              "      <td>False</td>\n",
              "      <td>TRAPPIST-1e</td>\n",
              "      <td>33.0</td>\n",
              "      <td>False</td>\n",
              "      <td>0.0</td>\n",
              "      <td>1283.0</td>\n",
              "      <td>371.0</td>\n",
              "      <td>3329.0</td>\n",
              "      <td>193.0</td>\n",
              "      <td>Solam Susent</td>\n",
              "      <td>False</td>\n",
              "      <td>family</td>\n",
              "      <td>A</td>\n",
              "      <td>0</td>\n",
              "      <td>S</td>\n",
              "    </tr>\n",
              "    <tr>\n",
              "      <th>4</th>\n",
              "      <td>Earth</td>\n",
              "      <td>False</td>\n",
              "      <td>TRAPPIST-1e</td>\n",
              "      <td>16.0</td>\n",
              "      <td>False</td>\n",
              "      <td>303.0</td>\n",
              "      <td>70.0</td>\n",
              "      <td>151.0</td>\n",
              "      <td>565.0</td>\n",
              "      <td>2.0</td>\n",
              "      <td>Willy Santantines</td>\n",
              "      <td>True</td>\n",
              "      <td>alone</td>\n",
              "      <td>F</td>\n",
              "      <td>1</td>\n",
              "      <td>S</td>\n",
              "    </tr>\n",
              "  </tbody>\n",
              "</table>\n",
              "</div>\n",
              "      <button class=\"colab-df-convert\" onclick=\"convertToInteractive('df-f6f97281-a133-424e-a122-d492cceab9a4')\"\n",
              "              title=\"Convert this dataframe to an interactive table.\"\n",
              "              style=\"display:none;\">\n",
              "        \n",
              "  <svg xmlns=\"http://www.w3.org/2000/svg\" height=\"24px\"viewBox=\"0 0 24 24\"\n",
              "       width=\"24px\">\n",
              "    <path d=\"M0 0h24v24H0V0z\" fill=\"none\"/>\n",
              "    <path d=\"M18.56 5.44l.94 2.06.94-2.06 2.06-.94-2.06-.94-.94-2.06-.94 2.06-2.06.94zm-11 1L8.5 8.5l.94-2.06 2.06-.94-2.06-.94L8.5 2.5l-.94 2.06-2.06.94zm10 10l.94 2.06.94-2.06 2.06-.94-2.06-.94-.94-2.06-.94 2.06-2.06.94z\"/><path d=\"M17.41 7.96l-1.37-1.37c-.4-.4-.92-.59-1.43-.59-.52 0-1.04.2-1.43.59L10.3 9.45l-7.72 7.72c-.78.78-.78 2.05 0 2.83L4 21.41c.39.39.9.59 1.41.59.51 0 1.02-.2 1.41-.59l7.78-7.78 2.81-2.81c.8-.78.8-2.07 0-2.86zM5.41 20L4 18.59l7.72-7.72 1.47 1.35L5.41 20z\"/>\n",
              "  </svg>\n",
              "      </button>\n",
              "      \n",
              "  <style>\n",
              "    .colab-df-container {\n",
              "      display:flex;\n",
              "      flex-wrap:wrap;\n",
              "      gap: 12px;\n",
              "    }\n",
              "\n",
              "    .colab-df-convert {\n",
              "      background-color: #E8F0FE;\n",
              "      border: none;\n",
              "      border-radius: 50%;\n",
              "      cursor: pointer;\n",
              "      display: none;\n",
              "      fill: #1967D2;\n",
              "      height: 32px;\n",
              "      padding: 0 0 0 0;\n",
              "      width: 32px;\n",
              "    }\n",
              "\n",
              "    .colab-df-convert:hover {\n",
              "      background-color: #E2EBFA;\n",
              "      box-shadow: 0px 1px 2px rgba(60, 64, 67, 0.3), 0px 1px 3px 1px rgba(60, 64, 67, 0.15);\n",
              "      fill: #174EA6;\n",
              "    }\n",
              "\n",
              "    [theme=dark] .colab-df-convert {\n",
              "      background-color: #3B4455;\n",
              "      fill: #D2E3FC;\n",
              "    }\n",
              "\n",
              "    [theme=dark] .colab-df-convert:hover {\n",
              "      background-color: #434B5C;\n",
              "      box-shadow: 0px 1px 3px 1px rgba(0, 0, 0, 0.15);\n",
              "      filter: drop-shadow(0px 1px 2px rgba(0, 0, 0, 0.3));\n",
              "      fill: #FFFFFF;\n",
              "    }\n",
              "  </style>\n",
              "\n",
              "      <script>\n",
              "        const buttonEl =\n",
              "          document.querySelector('#df-f6f97281-a133-424e-a122-d492cceab9a4 button.colab-df-convert');\n",
              "        buttonEl.style.display =\n",
              "          google.colab.kernel.accessAllowed ? 'block' : 'none';\n",
              "\n",
              "        async function convertToInteractive(key) {\n",
              "          const element = document.querySelector('#df-f6f97281-a133-424e-a122-d492cceab9a4');\n",
              "          const dataTable =\n",
              "            await google.colab.kernel.invokeFunction('convertToInteractive',\n",
              "                                                     [key], {});\n",
              "          if (!dataTable) return;\n",
              "\n",
              "          const docLinkHtml = 'Like what you see? Visit the ' +\n",
              "            '<a target=\"_blank\" href=https://colab.research.google.com/notebooks/data_table.ipynb>data table notebook</a>'\n",
              "            + ' to learn more about interactive tables.';\n",
              "          element.innerHTML = '';\n",
              "          dataTable['output_type'] = 'display_data';\n",
              "          await google.colab.output.renderOutput(dataTable, element);\n",
              "          const docLink = document.createElement('div');\n",
              "          docLink.innerHTML = docLinkHtml;\n",
              "          element.appendChild(docLink);\n",
              "        }\n",
              "      </script>\n",
              "    </div>\n",
              "  </div>\n",
              "  "
            ]
          },
          "metadata": {},
          "execution_count": 105
        }
      ]
    },
    {
      "cell_type": "code",
      "source": [
        "#let's go deep in the Deck relation with transportation\n",
        "plt.pie(df['Deck'].value_counts().tolist(),labels=df['Deck'].value_counts().keys())"
      ],
      "metadata": {
        "execution": {
          "iopub.status.busy": "2023-03-31T16:45:18.129353Z",
          "iopub.execute_input": "2023-03-31T16:45:18.130320Z",
          "iopub.status.idle": "2023-03-31T16:45:18.299806Z",
          "shell.execute_reply.started": "2023-03-31T16:45:18.130260Z",
          "shell.execute_reply": "2023-03-31T16:45:18.298753Z"
        },
        "trusted": true,
        "colab": {
          "base_uri": "https://localhost:8080/",
          "height": 684
        },
        "id": "OGSd-zcUCto6",
        "outputId": "b785ae75-751c-46f5-f178-43e348fa4dc3"
      },
      "execution_count": null,
      "outputs": [
        {
          "output_type": "execute_result",
          "data": {
            "text/plain": [
              "([<matplotlib.patches.Wedge at 0x7f1266804c10>,\n",
              "  <matplotlib.patches.Wedge at 0x7f1266804af0>,\n",
              "  <matplotlib.patches.Wedge at 0x7f1266805360>,\n",
              "  <matplotlib.patches.Wedge at 0x7f12668057e0>,\n",
              "  <matplotlib.patches.Wedge at 0x7f1266805c60>,\n",
              "  <matplotlib.patches.Wedge at 0x7f12668060e0>,\n",
              "  <matplotlib.patches.Wedge at 0x7f1266806560>,\n",
              "  <matplotlib.patches.Wedge at 0x7f12668069e0>],\n",
              " [Text(0.563101166796754, 0.9449428956038214, 'F'),\n",
              "  Text(-1.0909530811175054, 0.14078840435285056, 'G'),\n",
              "  Text(-0.4572256134793619, -1.0004722576755547, 'E'),\n",
              "  Text(0.20066579478681268, -1.0815420652025407, 'B'),\n",
              "  Text(0.7480764212939841, -0.8064624404793976, 'C'),\n",
              "  Text(1.0256156918944175, -0.39763356566056557, 'D'),\n",
              "  Text(1.0946807489543147, -0.1080465541737482, 'A'),\n",
              "  Text(1.0999981191309014, -0.0020341849668980855, 'T')])"
            ]
          },
          "metadata": {},
          "execution_count": 106
        },
        {
          "output_type": "display_data",
          "data": {
            "text/plain": [
              "<Figure size 640x480 with 1 Axes>"
            ],
            "image/png": "[encoded data removed]"
          },
          "metadata": {}
        }
      ]
    },
    {
      "cell_type": "code",
      "source": [
        "sns.catplot(data=df, kind=\"bar\",\n",
        "    y=\"Deck\", x=\"Transported\", hue=\"Deck\",\n",
        "     palette=\"dark\", alpha=.6, height=4,orient='h')"
      ],
      "metadata": {
        "execution": {
          "iopub.status.busy": "2023-03-31T16:45:18.301573Z",
          "iopub.execute_input": "2023-03-31T16:45:18.302427Z",
          "iopub.status.idle": "2023-03-31T16:45:19.354704Z",
          "shell.execute_reply.started": "2023-03-31T16:45:18.302371Z",
          "shell.execute_reply": "2023-03-31T16:45:19.353098Z"
        },
        "trusted": true,
        "colab": {
          "base_uri": "https://localhost:8080/",
          "height": 418
        },
        "id": "vQviJhALCto6",
        "outputId": "e8416b23-58b4-4cd9-8ccb-6600e9437f76"
      },
      "execution_count": null,
      "outputs": [
        {
          "output_type": "execute_result",
          "data": {
            "text/plain": [
              "<seaborn.axisgrid.FacetGrid at 0x7f1266807670>"
            ]
          },
          "metadata": {},
          "execution_count": 107
        },
        {
          "output_type": "display_data",
          "data": {
            "text/plain": [
              "<Figure size 466.875x400 with 1 Axes>"
            ],
            "image/png": "[encoded data removed]"
          },
          "metadata": {}
        }
      ]
    },
    {
      "cell_type": "markdown",
      "source": [
        "* passengers are mostly in G and F Decks even tho they are relatively inverse correlated with transported\n",
        "* passengers who are in B and C has higher chances to be transported"
      ],
      "metadata": {
        "id": "CDDnkU8bCto6"
      }
    },
    {
      "cell_type": "code",
      "source": [
        "#now we gonna explore the Num column\n",
        "sns.relplot(x=\"Num\", y=\"Transported\",\n",
        "             alpha=.5, palette=\"muted\",\n",
        "            height=6, data=df)"
      ],
      "metadata": {
        "execution": {
          "iopub.status.busy": "2023-03-31T16:45:19.356186Z",
          "iopub.execute_input": "2023-03-31T16:45:19.356541Z",
          "iopub.status.idle": "2023-03-31T16:45:42.502290Z",
          "shell.execute_reply.started": "2023-03-31T16:45:19.356505Z",
          "shell.execute_reply": "2023-03-31T16:45:42.500606Z"
        },
        "trusted": true,
        "colab": {
          "base_uri": "https://localhost:8080/",
          "height": 617
        },
        "id": "O4kt3Wh1Cto6",
        "outputId": "65f9bf35-390b-411a-8f6b-a73b06ee20a9"
      },
      "execution_count": null,
      "outputs": [
        {
          "output_type": "execute_result",
          "data": {
            "text/plain": [
              "<seaborn.axisgrid.FacetGrid at 0x7f12668b9300>"
            ]
          },
          "metadata": {},
          "execution_count": 108
        },
        {
          "output_type": "display_data",
          "data": {
            "text/plain": [
              "<Figure size 600x600 with 1 Axes>"
            ],
            "image/png": "[encoded data removed]"
          },
          "metadata": {}
        }
      ]
    },
    {
      "cell_type": "markdown",
      "source": [
        "* clearly we can't extract insights from this column so we are going to drop it in the preprocessing phase\n"
      ],
      "metadata": {
        "id": "S6wcocVECto6"
      }
    },
    {
      "cell_type": "code",
      "source": [
        "#finaly at the side column\n",
        "plt.pie(df['Side'].value_counts().tolist(),labels=df['Side'].value_counts().keys())\n",
        "plt.show()\n",
        "sns.catplot(data=df, kind=\"bar\",\n",
        "    y=\"Side\", x=\"Transported\", hue=\"Side\",\n",
        "     palette=\"dark\", alpha=.6, height=4,orient='h')\n",
        "plt.show()"
      ],
      "metadata": {
        "execution": {
          "iopub.status.busy": "2023-03-31T16:45:42.506384Z",
          "iopub.execute_input": "2023-03-31T16:45:42.506796Z",
          "iopub.status.idle": "2023-03-31T16:45:43.172063Z",
          "shell.execute_reply.started": "2023-03-31T16:45:42.506757Z",
          "shell.execute_reply": "2023-03-31T16:45:43.170345Z"
        },
        "trusted": true,
        "colab": {
          "base_uri": "https://localhost:8080/",
          "height": 790
        },
        "id": "yv1Jjj--Cto6",
        "outputId": "a18680fc-d51a-44c4-8057-37eff2066c8d"
      },
      "execution_count": null,
      "outputs": [
        {
          "output_type": "display_data",
          "data": {
            "text/plain": [
              "<Figure size 640x480 with 1 Axes>"
            ],
            "image/png": "[encoded data removed]"
          },
          "metadata": {}
        },
        {
          "output_type": "display_data",
          "data": {
            "text/plain": [
              "<Figure size 464.75x400 with 1 Axes>"
            ],
            "image/png": "[encoded data removed]"
          },
          "metadata": {}
        }
      ]
    },
    {
      "cell_type": "markdown",
      "source": [
        "* passengers seems to be divided in half , S and P\n",
        "* the passenger in on side S he is more likely to be Transported , but not a big difference tho."
      ],
      "metadata": {
        "id": "8OiyEtV-Cto6"
      }
    },
    {
      "cell_type": "markdown",
      "source": [
        "## Destination"
      ],
      "metadata": {
        "id": "jUe8rs-bCto6"
      }
    },
    {
      "cell_type": "code",
      "source": [
        "#let's see where passengers like to travel the most\n",
        "plt.pie(df['Destination'].value_counts().tolist(),labels=df['Destination'].value_counts().keys())"
      ],
      "metadata": {
        "execution": {
          "iopub.status.busy": "2023-03-31T16:45:43.174230Z",
          "iopub.execute_input": "2023-03-31T16:45:43.174667Z",
          "iopub.status.idle": "2023-03-31T16:45:43.320588Z",
          "shell.execute_reply.started": "2023-03-31T16:45:43.174626Z",
          "shell.execute_reply": "2023-03-31T16:45:43.318244Z"
        },
        "trusted": true,
        "colab": {
          "base_uri": "https://localhost:8080/",
          "height": 510
        },
        "id": "cR8beyzaCto6",
        "outputId": "cb255bb3-ed3d-4fa1-ec94-7741a21c7b02"
      },
      "execution_count": null,
      "outputs": [
        {
          "output_type": "execute_result",
          "data": {
            "text/plain": [
              "([<matplotlib.patches.Wedge at 0x7f1264bda350>,\n",
              "  <matplotlib.patches.Wedge at 0x7f1264bda230>,\n",
              "  <matplotlib.patches.Wedge at 0x7f1264bdaa70>],\n",
              " [Text(-0.6324575589537547, 0.8999985756223496, 'TRAPPIST-1e'),\n",
              "  Text(0.34470342064144743, -1.0445954010037022, '55 Cancri e'),\n",
              "  Text(1.0528587716222633, -0.3185724517563615, 'PSO J318.5-22')])"
            ]
          },
          "metadata": {},
          "execution_count": 110
        },
        {
          "output_type": "display_data",
          "data": {
            "text/plain": [
              "<Figure size 640x480 with 1 Axes>"
            ],
            "image/png": "[encoded data removed]"
          },
          "metadata": {}
        }
      ]
    },
    {
      "cell_type": "code",
      "source": [
        "#what destination has more chances for its passengers to be transported\n",
        "sns.catplot(data=df, kind=\"bar\",\n",
        "    y=\"Destination\", x=\"Transported\", hue=\"Destination\",\n",
        "     palette=\"dark\", alpha=.6, height=4,orient='h')"
      ],
      "metadata": {
        "execution": {
          "iopub.status.busy": "2023-03-31T16:45:43.324864Z",
          "iopub.execute_input": "2023-03-31T16:45:43.326539Z",
          "iopub.status.idle": "2023-03-31T16:45:43.993060Z",
          "shell.execute_reply.started": "2023-03-31T16:45:43.326440Z",
          "shell.execute_reply": "2023-03-31T16:45:43.991547Z"
        },
        "trusted": true,
        "colab": {
          "base_uri": "https://localhost:8080/",
          "height": 418
        },
        "id": "B0FCmYNXCto7",
        "outputId": "3861bfc6-80ce-4814-a9c1-15f1443e5cb2"
      },
      "execution_count": null,
      "outputs": [
        {
          "output_type": "execute_result",
          "data": {
            "text/plain": [
              "<seaborn.axisgrid.FacetGrid at 0x7f1264bdbb20>"
            ]
          },
          "metadata": {},
          "execution_count": 111
        },
        {
          "output_type": "display_data",
          "data": {
            "text/plain": [
              "<Figure size 563.625x400 with 1 Axes>"
            ],
            "image/png": "[encoded data removed]"
          },
          "metadata": {}
        }
      ]
    },
    {
      "cell_type": "markdown",
      "source": [
        "* passengers travel the most to trappist\n",
        "* they don't seem to have a high chance to be tranported"
      ],
      "metadata": {
        "id": "pgu2TVqpCto7"
      }
    },
    {
      "cell_type": "markdown",
      "source": [
        "## Age"
      ],
      "metadata": {
        "id": "1XSSYOzACto7"
      }
    },
    {
      "cell_type": "code",
      "source": [
        "#let's see how age is distributed\n",
        "sns.set_theme(style=\"ticks\")\n",
        "f, ax = plt.subplots(figsize=(7, 5))\n",
        "sns.despine(f)\n",
        "sns.histplot(\n",
        "    df,\n",
        "    x=\"Age\",\n",
        "    hue=\"Transported\",\n",
        "    multiple=\"stack\",\n",
        "    palette=\"light:m_r\",\n",
        "    edgecolor=\".3\",\n",
        "    linewidth=.5,\n",
        "    log_scale=False,\n",
        ")\n",
        "plt.show()"
      ],
      "metadata": {
        "execution": {
          "iopub.status.busy": "2023-03-31T16:45:43.994853Z",
          "iopub.execute_input": "2023-03-31T16:45:43.996099Z",
          "iopub.status.idle": "2023-03-31T16:45:44.451389Z",
          "shell.execute_reply.started": "2023-03-31T16:45:43.995837Z",
          "shell.execute_reply": "2023-03-31T16:45:44.450023Z"
        },
        "trusted": true,
        "colab": {
          "base_uri": "https://localhost:8080/",
          "height": 473
        },
        "id": "f08noQSeCto7",
        "outputId": "a5da42d3-954c-4970-f97c-4d0e8d5e2d84"
      },
      "execution_count": null,
      "outputs": [
        {
          "output_type": "display_data",
          "data": {
            "text/plain": [
              "<Figure size 700x500 with 1 Axes>"
            ],
            "image/png": "[encoded data removed]"
          },
          "metadata": {}
        }
      ]
    },
    {
      "cell_type": "markdown",
      "source": [
        "* most of passengers are adults and the minority are kids and grown\n",
        "* we can see that when a passenger age is less than 12 he has a high chance to be transported , note that we can\n",
        "  make age a categorical column , kids and adults"
      ],
      "metadata": {
        "id": "IerQxefVCto7"
      }
    },
    {
      "cell_type": "code",
      "source": [
        "#let's make Age column categorical and analyse the result\n",
        "df['Age']=np.where(df['Age']<12,'kid','adult')"
      ],
      "metadata": {
        "execution": {
          "iopub.status.busy": "2023-03-31T16:46:39.997077Z",
          "iopub.execute_input": "2023-03-31T16:46:39.997723Z",
          "iopub.status.idle": "2023-03-31T16:46:40.010696Z",
          "shell.execute_reply.started": "2023-03-31T16:46:39.997666Z",
          "shell.execute_reply": "2023-03-31T16:46:40.009099Z"
        },
        "trusted": true,
        "id": "B9SqbeYtCto7"
      },
      "execution_count": null,
      "outputs": []
    },
    {
      "cell_type": "code",
      "source": [
        "sns.catplot(data=df, kind=\"bar\",\n",
        "    y=\"Age\", x=\"Transported\", hue=\"Age\",\n",
        "     palette=\"dark\", alpha=.6, height=4,orient='h')"
      ],
      "metadata": {
        "execution": {
          "iopub.status.busy": "2023-03-31T16:46:42.610406Z",
          "iopub.execute_input": "2023-03-31T16:46:42.611704Z",
          "iopub.status.idle": "2023-03-31T16:46:43.056589Z",
          "shell.execute_reply.started": "2023-03-31T16:46:42.611653Z",
          "shell.execute_reply": "2023-03-31T16:46:43.054922Z"
        },
        "trusted": true,
        "colab": {
          "base_uri": "https://localhost:8080/",
          "height": 418
        },
        "id": "neKEKfQpCtpD",
        "outputId": "e9d48490-fabc-47b1-ac3b-f1aa64e9b965"
      },
      "execution_count": null,
      "outputs": [
        {
          "output_type": "execute_result",
          "data": {
            "text/plain": [
              "<seaborn.axisgrid.FacetGrid at 0x7f12668bb2e0>"
            ]
          },
          "metadata": {},
          "execution_count": 114
        },
        {
          "output_type": "display_data",
          "data": {
            "text/plain": [
              "<Figure size 494x400 with 1 Axes>"
            ],
            "image/png": "[encoded data removed]"
          },
          "metadata": {}
        }
      ]
    },
    {
      "cell_type": "markdown",
      "source": [
        "* our supposition is true"
      ],
      "metadata": {
        "id": "eJQKLAPGCtpE"
      }
    },
    {
      "cell_type": "markdown",
      "source": [
        "## VIP"
      ],
      "metadata": {
        "id": "xPyn4yeiCtpE"
      }
    },
    {
      "cell_type": "code",
      "source": [
        "#let's see how many passengers were vip\n",
        "plt.pie(df['VIP'].value_counts().tolist(),labels=df['VIP'].value_counts().keys())"
      ],
      "metadata": {
        "execution": {
          "iopub.status.busy": "2023-03-31T16:46:44.308391Z",
          "iopub.execute_input": "2023-03-31T16:46:44.308864Z",
          "iopub.status.idle": "2023-03-31T16:46:44.413569Z",
          "shell.execute_reply.started": "2023-03-31T16:46:44.308827Z",
          "shell.execute_reply": "2023-03-31T16:46:44.411907Z"
        },
        "trusted": true,
        "colab": {
          "base_uri": "https://localhost:8080/",
          "height": 475
        },
        "id": "_ifrgqqyCtpE",
        "outputId": "f7b33322-7e7d-4b17-9ad2-4abc9d84be63"
      },
      "execution_count": null,
      "outputs": [
        {
          "output_type": "execute_result",
          "data": {
            "text/plain": [
              "([<matplotlib.patches.Wedge at 0x7f1264a10f10>,\n",
              "  <matplotlib.patches.Wedge at 0x7f1264a10df0>],\n",
              " [Text(-1.0970190325929705, 0.08092738800173493, 'False'),\n",
              "  Text(1.097019030698728, -0.08092741367931887, 'True')])"
            ]
          },
          "metadata": {},
          "execution_count": 115
        },
        {
          "output_type": "display_data",
          "data": {
            "text/plain": [
              "<Figure size 640x480 with 1 Axes>"
            ],
            "image/png": "[encoded data removed]"
          },
          "metadata": {}
        }
      ]
    },
    {
      "cell_type": "code",
      "source": [
        "sns.catplot(data=df, kind=\"bar\",\n",
        "    y=\"VIP\", x=\"Transported\", hue=\"VIP\",\n",
        "     palette=\"dark\", alpha=.6, height=4,orient='h')"
      ],
      "metadata": {
        "execution": {
          "iopub.status.busy": "2023-03-31T16:46:44.976509Z",
          "iopub.execute_input": "2023-03-31T16:46:44.976939Z",
          "iopub.status.idle": "2023-03-31T16:46:45.503755Z",
          "shell.execute_reply.started": "2023-03-31T16:46:44.976904Z",
          "shell.execute_reply": "2023-03-31T16:46:45.502240Z"
        },
        "trusted": true,
        "colab": {
          "base_uri": "https://localhost:8080/",
          "height": 418
        },
        "id": "sxj0-GXYCtpE",
        "outputId": "c5f3fdb1-66e1-42d8-e218-5b6db26362e6"
      },
      "execution_count": null,
      "outputs": [
        {
          "output_type": "execute_result",
          "data": {
            "text/plain": [
              "<seaborn.axisgrid.FacetGrid at 0x7f1264c2f280>"
            ]
          },
          "metadata": {},
          "execution_count": 116
        },
        {
          "output_type": "display_data",
          "data": {
            "text/plain": [
              "<Figure size 493.5x400 with 1 Axes>"
            ],
            "image/png": "[encoded data removed]"
          },
          "metadata": {}
        }
      ]
    },
    {
      "cell_type": "markdown",
      "source": [
        "* vip passengers are a minority and they seem to have less chance to be transported"
      ],
      "metadata": {
        "id": "vFbsR9sGCtpE"
      }
    },
    {
      "cell_type": "markdown",
      "source": [
        "## RoomService , FoodCourt , ShoppingMall , Spa & VRDeck"
      ],
      "metadata": {
        "id": "bk3BnDFkCtpE"
      }
    },
    {
      "cell_type": "code",
      "source": [
        "#we will explore the correlation of these services with transported\n",
        "sns.heatmap(df[['RoomService' , 'FoodCourt' , 'ShoppingMall' , 'Spa' , 'VRDeck','Transported']].corr(),annot=True)"
      ],
      "metadata": {
        "execution": {
          "iopub.status.busy": "2023-03-31T17:20:11.611748Z",
          "iopub.execute_input": "2023-03-31T17:20:11.612208Z",
          "iopub.status.idle": "2023-03-31T17:20:12.119330Z",
          "shell.execute_reply.started": "2023-03-31T17:20:11.612170Z",
          "shell.execute_reply": "2023-03-31T17:20:12.117968Z"
        },
        "trusted": true,
        "colab": {
          "base_uri": "https://localhost:8080/",
          "height": 545
        },
        "id": "g2mRXtijCtpF",
        "outputId": "503130c2-58b8-40fe-dd47-16483fe03d72"
      },
      "execution_count": null,
      "outputs": [
        {
          "output_type": "execute_result",
          "data": {
            "text/plain": [
              "<Axes: >"
            ]
          },
          "metadata": {},
          "execution_count": 117
        },
        {
          "output_type": "display_data",
          "data": {
            "text/plain": [
              "<Figure size 640x480 with 2 Axes>"
            ],
            "image/png": "[encoded data removed]"
          },
          "metadata": {}
        }
      ]
    },
    {
      "cell_type": "markdown",
      "source": [
        "* transported is correlated with the services except foodcourt and shopping mall"
      ],
      "metadata": {
        "id": "N40stf-mCtpF"
      }
    },
    {
      "cell_type": "code",
      "source": [
        "df.info()"
      ],
      "metadata": {
        "colab": {
          "base_uri": "https://localhost:8080/"
        },
        "id": "IszwpoxMTomF",
        "outputId": "6d3812c2-a461-4522-afaf-85a1f980751a"
      },
      "execution_count": null,
      "outputs": [
        {
          "output_type": "stream",
          "name": "stdout",
          "text": [
            "<class 'pandas.core.frame.DataFrame'>\n",
            "RangeIndex: 8693 entries, 0 to 8692\n",
            "Data columns (total 16 columns):\n",
            " #   Column           Non-Null Count  Dtype  \n",
            "---  ------           --------------  -----  \n",
            " 0   HomePlanet       8492 non-null   object \n",
            " 1   CryoSleep        8476 non-null   object \n",
            " 2   Destination      8511 non-null   object \n",
            " 3   Age              8693 non-null   object \n",
            " 4   VIP              8490 non-null   object \n",
            " 5   RoomService      8512 non-null   float64\n",
            " 6   FoodCourt        8510 non-null   float64\n",
            " 7   ShoppingMall     8485 non-null   float64\n",
            " 8   Spa              8510 non-null   float64\n",
            " 9   VRDeck           8505 non-null   float64\n",
            " 10  Name             8493 non-null   object \n",
            " 11  Transported      8693 non-null   bool   \n",
            " 12  traveling_state  8693 non-null   object \n",
            " 13  Deck             8494 non-null   object \n",
            " 14  Num              8494 non-null   object \n",
            " 15  Side             8494 non-null   object \n",
            "dtypes: bool(1), float64(5), object(10)\n",
            "memory usage: 1.0+ MB\n"
          ]
        }
      ]
    },
    {
      "cell_type": "code",
      "source": [
        "from sklearn.preprocessing import LabelEncoder\n",
        "def finaldb(db) :\n",
        "  le=LabelEncoder()\n",
        "  db= db.drop(['FoodCourt','Num','ShoppingMall','Name'],axis=1)\n",
        "  for c in db.columns:\n",
        "    if (db[c].dtype != float):\n",
        "      db[c]=le.fit_transform(db[c])\n",
        "  return db\n"
      ],
      "metadata": {
        "id": "tpDi7xKxTrfZ"
      },
      "execution_count": null,
      "outputs": []
    },
    {
      "cell_type": "code",
      "source": [
        "df=finaldb(df)"
      ],
      "metadata": {
        "id": "87jfi5AsY0Bf"
      },
      "execution_count": null,
      "outputs": []
    },
    {
      "cell_type": "code",
      "source": [
        "df.head()"
      ],
      "metadata": {
        "colab": {
          "base_uri": "https://localhost:8080/",
          "height": 206
        },
        "id": "AtM6epB7Y60e",
        "outputId": "1cac7f38-5ad5-4ef8-8e3e-5dd995dabe7b"
      },
      "execution_count": null,
      "outputs": [
        {
          "output_type": "execute_result",
          "data": {
            "text/plain": [
              "   HomePlanet  CryoSleep  Destination  Age  VIP  RoomService     Spa  VRDeck  \\\n",
              "0           1          0            2    0    0          0.0     0.0     0.0   \n",
              "1           0          0            2    0    0        109.0   549.0    44.0   \n",
              "2           1          0            2    0    1         43.0  6715.0    49.0   \n",
              "3           1          0            2    0    0          0.0  3329.0   193.0   \n",
              "4           0          0            2    0    0        303.0   565.0     2.0   \n",
              "\n",
              "   Transported  traveling_state  Deck  Side  \n",
              "0            0                0     1     0  \n",
              "1            1                0     5     1  \n",
              "2            0                1     0     1  \n",
              "3            0                1     0     1  \n",
              "4            1                0     5     1  "
            ],
            "text/html": [
              "\n",
              "  <div id=\"df-eb9aae75-193f-459e-bf9c-b1ff1d808499\">\n",
              "    <div class=\"colab-df-container\">\n",
              "      <div>\n",
              "<style scoped>\n",
              "    .dataframe tbody tr th:only-of-type {\n",
              "        vertical-align: middle;\n",
              "    }\n",
              "\n",
              "    .dataframe tbody tr th {\n",
              "        vertical-align: top;\n",
              "    }\n",
              "\n",
              "    .dataframe thead th {\n",
              "        text-align: right;\n",
              "    }\n",
              "</style>\n",
              "<table border=\"1\" class=\"dataframe\">\n",
              "  <thead>\n",
              "    <tr style=\"text-align: right;\">\n",
              "      <th></th>\n",
              "      <th>HomePlanet</th>\n",
              "      <th>CryoSleep</th>\n",
              "      <th>Destination</th>\n",
              "      <th>Age</th>\n",
              "      <th>VIP</th>\n",
              "      <th>RoomService</th>\n",
              "      <th>Spa</th>\n",
              "      <th>VRDeck</th>\n",
              "      <th>Transported</th>\n",
              "      <th>traveling_state</th>\n",
              "      <th>Deck</th>\n",
              "      <th>Side</th>\n",
              "    </tr>\n",
              "  </thead>\n",
              "  <tbody>\n",
              "    <tr>\n",
              "      <th>0</th>\n",
              "      <td>1</td>\n",
              "      <td>0</td>\n",
              "      <td>2</td>\n",
              "      <td>0</td>\n",
              "      <td>0</td>\n",
              "      <td>0.0</td>\n",
              "      <td>0.0</td>\n",
              "      <td>0.0</td>\n",
              "      <td>0</td>\n",
              "      <td>0</td>\n",
              "      <td>1</td>\n",
              "      <td>0</td>\n",
              "    </tr>\n",
              "    <tr>\n",
              "      <th>1</th>\n",
              "      <td>0</td>\n",
              "      <td>0</td>\n",
              "      <td>2</td>\n",
              "      <td>0</td>\n",
              "      <td>0</td>\n",
              "      <td>109.0</td>\n",
              "      <td>549.0</td>\n",
              "      <td>44.0</td>\n",
              "      <td>1</td>\n",
              "      <td>0</td>\n",
              "      <td>5</td>\n",
              "      <td>1</td>\n",
              "    </tr>\n",
              "    <tr>\n",
              "      <th>2</th>\n",
              "      <td>1</td>\n",
              "      <td>0</td>\n",
              "      <td>2</td>\n",
              "      <td>0</td>\n",
              "      <td>1</td>\n",
              "      <td>43.0</td>\n",
              "      <td>6715.0</td>\n",
              "      <td>49.0</td>\n",
              "      <td>0</td>\n",
              "      <td>1</td>\n",
              "      <td>0</td>\n",
              "      <td>1</td>\n",
              "    </tr>\n",
              "    <tr>\n",
              "      <th>3</th>\n",
              "      <td>1</td>\n",
              "      <td>0</td>\n",
              "      <td>2</td>\n",
              "      <td>0</td>\n",
              "      <td>0</td>\n",
              "      <td>0.0</td>\n",
              "      <td>3329.0</td>\n",
              "      <td>193.0</td>\n",
              "      <td>0</td>\n",
              "      <td>1</td>\n",
              "      <td>0</td>\n",
              "      <td>1</td>\n",
              "    </tr>\n",
              "    <tr>\n",
              "      <th>4</th>\n",
              "      <td>0</td>\n",
              "      <td>0</td>\n",
              "      <td>2</td>\n",
              "      <td>0</td>\n",
              "      <td>0</td>\n",
              "      <td>303.0</td>\n",
              "      <td>565.0</td>\n",
              "      <td>2.0</td>\n",
              "      <td>1</td>\n",
              "      <td>0</td>\n",
              "      <td>5</td>\n",
              "      <td>1</td>\n",
              "    </tr>\n",
              "  </tbody>\n",
              "</table>\n",
              "</div>\n",
              "      <button class=\"colab-df-convert\" onclick=\"convertToInteractive('df-eb9aae75-193f-459e-bf9c-b1ff1d808499')\"\n",
              "              title=\"Convert this dataframe to an interactive table.\"\n",
              "              style=\"display:none;\">\n",
              "        \n",
              "  <svg xmlns=\"http://www.w3.org/2000/svg\" height=\"24px\"viewBox=\"0 0 24 24\"\n",
              "       width=\"24px\">\n",
              "    <path d=\"M0 0h24v24H0V0z\" fill=\"none\"/>\n",
              "    <path d=\"M18.56 5.44l.94 2.06.94-2.06 2.06-.94-2.06-.94-.94-2.06-.94 2.06-2.06.94zm-11 1L8.5 8.5l.94-2.06 2.06-.94-2.06-.94L8.5 2.5l-.94 2.06-2.06.94zm10 10l.94 2.06.94-2.06 2.06-.94-2.06-.94-.94-2.06-.94 2.06-2.06.94z\"/><path d=\"M17.41 7.96l-1.37-1.37c-.4-.4-.92-.59-1.43-.59-.52 0-1.04.2-1.43.59L10.3 9.45l-7.72 7.72c-.78.78-.78 2.05 0 2.83L4 21.41c.39.39.9.59 1.41.59.51 0 1.02-.2 1.41-.59l7.78-7.78 2.81-2.81c.8-.78.8-2.07 0-2.86zM5.41 20L4 18.59l7.72-7.72 1.47 1.35L5.41 20z\"/>\n",
              "  </svg>\n",
              "      </button>\n",
              "      \n",
              "  <style>\n",
              "    .colab-df-container {\n",
              "      display:flex;\n",
              "      flex-wrap:wrap;\n",
              "      gap: 12px;\n",
              "    }\n",
              "\n",
              "    .colab-df-convert {\n",
              "      background-color: #E8F0FE;\n",
              "      border: none;\n",
              "      border-radius: 50%;\n",
              "      cursor: pointer;\n",
              "      display: none;\n",
              "      fill: #1967D2;\n",
              "      height: 32px;\n",
              "      padding: 0 0 0 0;\n",
              "      width: 32px;\n",
              "    }\n",
              "\n",
              "    .colab-df-convert:hover {\n",
              "      background-color: #E2EBFA;\n",
              "      box-shadow: 0px 1px 2px rgba(60, 64, 67, 0.3), 0px 1px 3px 1px rgba(60, 64, 67, 0.15);\n",
              "      fill: #174EA6;\n",
              "    }\n",
              "\n",
              "    [theme=dark] .colab-df-convert {\n",
              "      background-color: #3B4455;\n",
              "      fill: #D2E3FC;\n",
              "    }\n",
              "\n",
              "    [theme=dark] .colab-df-convert:hover {\n",
              "      background-color: #434B5C;\n",
              "      box-shadow: 0px 1px 3px 1px rgba(0, 0, 0, 0.15);\n",
              "      filter: drop-shadow(0px 1px 2px rgba(0, 0, 0, 0.3));\n",
              "      fill: #FFFFFF;\n",
              "    }\n",
              "  </style>\n",
              "\n",
              "      <script>\n",
              "        const buttonEl =\n",
              "          document.querySelector('#df-eb9aae75-193f-459e-bf9c-b1ff1d808499 button.colab-df-convert');\n",
              "        buttonEl.style.display =\n",
              "          google.colab.kernel.accessAllowed ? 'block' : 'none';\n",
              "\n",
              "        async function convertToInteractive(key) {\n",
              "          const element = document.querySelector('#df-eb9aae75-193f-459e-bf9c-b1ff1d808499');\n",
              "          const dataTable =\n",
              "            await google.colab.kernel.invokeFunction('convertToInteractive',\n",
              "                                                     [key], {});\n",
              "          if (!dataTable) return;\n",
              "\n",
              "          const docLinkHtml = 'Like what you see? Visit the ' +\n",
              "            '<a target=\"_blank\" href=https://colab.research.google.com/notebooks/data_table.ipynb>data table notebook</a>'\n",
              "            + ' to learn more about interactive tables.';\n",
              "          element.innerHTML = '';\n",
              "          dataTable['output_type'] = 'display_data';\n",
              "          await google.colab.output.renderOutput(dataTable, element);\n",
              "          const docLink = document.createElement('div');\n",
              "          docLink.innerHTML = docLinkHtml;\n",
              "          element.appendChild(docLink);\n",
              "        }\n",
              "      </script>\n",
              "    </div>\n",
              "  </div>\n",
              "  "
            ]
          },
          "metadata": {},
          "execution_count": 121
        }
      ]
    },
    {
      "cell_type": "code",
      "source": [],
      "metadata": {
        "id": "ElC6-jkLcV-n"
      },
      "execution_count": null,
      "outputs": []
    },
    {
      "cell_type": "markdown",
      "source": [
        "## **Data preprocessing**"
      ],
      "metadata": {
        "id": "LHKWIB7LcXYi"
      }
    },
    {
      "cell_type": "markdown",
      "source": [
        "**Missing Values**"
      ],
      "metadata": {
        "id": "JHiI-abAd-sG"
      }
    },
    {
      "cell_type": "code",
      "source": [
        "df.head()"
      ],
      "metadata": {
        "colab": {
          "base_uri": "https://localhost:8080/",
          "height": 206
        },
        "id": "6z4UCIGhd9qk",
        "outputId": "65ad69f7-9e67-4358-ecff-848b51436fe7"
      },
      "execution_count": null,
      "outputs": [
        {
          "output_type": "execute_result",
          "data": {
            "text/plain": [
              "   HomePlanet  CryoSleep  Destination  Age  VIP  RoomService     Spa  VRDeck  \\\n",
              "0           1          0            2    0    0          0.0     0.0     0.0   \n",
              "1           0          0            2    0    0        109.0   549.0    44.0   \n",
              "2           1          0            2    0    1         43.0  6715.0    49.0   \n",
              "3           1          0            2    0    0          0.0  3329.0   193.0   \n",
              "4           0          0            2    0    0        303.0   565.0     2.0   \n",
              "\n",
              "   Transported  traveling_state  Deck  Side  \n",
              "0            0                0     1     0  \n",
              "1            1                0     5     1  \n",
              "2            0                1     0     1  \n",
              "3            0                1     0     1  \n",
              "4            1                0     5     1  "
            ],
            "text/html": [
              "\n",
              "  <div id=\"df-23716796-7a10-4289-9d52-52cc5fd0e80a\">\n",
              "    <div class=\"colab-df-container\">\n",
              "      <div>\n",
              "<style scoped>\n",
              "    .dataframe tbody tr th:only-of-type {\n",
              "        vertical-align: middle;\n",
              "    }\n",
              "\n",
              "    .dataframe tbody tr th {\n",
              "        vertical-align: top;\n",
              "    }\n",
              "\n",
              "    .dataframe thead th {\n",
              "        text-align: right;\n",
              "    }\n",
              "</style>\n",
              "<table border=\"1\" class=\"dataframe\">\n",
              "  <thead>\n",
              "    <tr style=\"text-align: right;\">\n",
              "      <th></th>\n",
              "      <th>HomePlanet</th>\n",
              "      <th>CryoSleep</th>\n",
              "      <th>Destination</th>\n",
              "      <th>Age</th>\n",
              "      <th>VIP</th>\n",
              "      <th>RoomService</th>\n",
              "      <th>Spa</th>\n",
              "      <th>VRDeck</th>\n",
              "      <th>Transported</th>\n",
              "      <th>traveling_state</th>\n",
              "      <th>Deck</th>\n",
              "      <th>Side</th>\n",
              "    </tr>\n",
              "  </thead>\n",
              "  <tbody>\n",
              "    <tr>\n",
              "      <th>0</th>\n",
              "      <td>1</td>\n",
              "      <td>0</td>\n",
              "      <td>2</td>\n",
              "      <td>0</td>\n",
              "      <td>0</td>\n",
              "      <td>0.0</td>\n",
              "      <td>0.0</td>\n",
              "      <td>0.0</td>\n",
              "      <td>0</td>\n",
              "      <td>0</td>\n",
              "      <td>1</td>\n",
              "      <td>0</td>\n",
              "    </tr>\n",
              "    <tr>\n",
              "      <th>1</th>\n",
              "      <td>0</td>\n",
              "      <td>0</td>\n",
              "      <td>2</td>\n",
              "      <td>0</td>\n",
              "      <td>0</td>\n",
              "      <td>109.0</td>\n",
              "      <td>549.0</td>\n",
              "      <td>44.0</td>\n",
              "      <td>1</td>\n",
              "      <td>0</td>\n",
              "      <td>5</td>\n",
              "      <td>1</td>\n",
              "    </tr>\n",
              "    <tr>\n",
              "      <th>2</th>\n",
              "      <td>1</td>\n",
              "      <td>0</td>\n",
              "      <td>2</td>\n",
              "      <td>0</td>\n",
              "      <td>1</td>\n",
              "      <td>43.0</td>\n",
              "      <td>6715.0</td>\n",
              "      <td>49.0</td>\n",
              "      <td>0</td>\n",
              "      <td>1</td>\n",
              "      <td>0</td>\n",
              "      <td>1</td>\n",
              "    </tr>\n",
              "    <tr>\n",
              "      <th>3</th>\n",
              "      <td>1</td>\n",
              "      <td>0</td>\n",
              "      <td>2</td>\n",
              "      <td>0</td>\n",
              "      <td>0</td>\n",
              "      <td>0.0</td>\n",
              "      <td>3329.0</td>\n",
              "      <td>193.0</td>\n",
              "      <td>0</td>\n",
              "      <td>1</td>\n",
              "      <td>0</td>\n",
              "      <td>1</td>\n",
              "    </tr>\n",
              "    <tr>\n",
              "      <th>4</th>\n",
              "      <td>0</td>\n",
              "      <td>0</td>\n",
              "      <td>2</td>\n",
              "      <td>0</td>\n",
              "      <td>0</td>\n",
              "      <td>303.0</td>\n",
              "      <td>565.0</td>\n",
              "      <td>2.0</td>\n",
              "      <td>1</td>\n",
              "      <td>0</td>\n",
              "      <td>5</td>\n",
              "      <td>1</td>\n",
              "    </tr>\n",
              "  </tbody>\n",
              "</table>\n",
              "</div>\n",
              "      <button class=\"colab-df-convert\" onclick=\"convertToInteractive('df-23716796-7a10-4289-9d52-52cc5fd0e80a')\"\n",
              "              title=\"Convert this dataframe to an interactive table.\"\n",
              "              style=\"display:none;\">\n",
              "        \n",
              "  <svg xmlns=\"http://www.w3.org/2000/svg\" height=\"24px\"viewBox=\"0 0 24 24\"\n",
              "       width=\"24px\">\n",
              "    <path d=\"M0 0h24v24H0V0z\" fill=\"none\"/>\n",
              "    <path d=\"M18.56 5.44l.94 2.06.94-2.06 2.06-.94-2.06-.94-.94-2.06-.94 2.06-2.06.94zm-11 1L8.5 8.5l.94-2.06 2.06-.94-2.06-.94L8.5 2.5l-.94 2.06-2.06.94zm10 10l.94 2.06.94-2.06 2.06-.94-2.06-.94-.94-2.06-.94 2.06-2.06.94z\"/><path d=\"M17.41 7.96l-1.37-1.37c-.4-.4-.92-.59-1.43-.59-.52 0-1.04.2-1.43.59L10.3 9.45l-7.72 7.72c-.78.78-.78 2.05 0 2.83L4 21.41c.39.39.9.59 1.41.59.51 0 1.02-.2 1.41-.59l7.78-7.78 2.81-2.81c.8-.78.8-2.07 0-2.86zM5.41 20L4 18.59l7.72-7.72 1.47 1.35L5.41 20z\"/>\n",
              "  </svg>\n",
              "      </button>\n",
              "      \n",
              "  <style>\n",
              "    .colab-df-container {\n",
              "      display:flex;\n",
              "      flex-wrap:wrap;\n",
              "      gap: 12px;\n",
              "    }\n",
              "\n",
              "    .colab-df-convert {\n",
              "      background-color: #E8F0FE;\n",
              "      border: none;\n",
              "      border-radius: 50%;\n",
              "      cursor: pointer;\n",
              "      display: none;\n",
              "      fill: #1967D2;\n",
              "      height: 32px;\n",
              "      padding: 0 0 0 0;\n",
              "      width: 32px;\n",
              "    }\n",
              "\n",
              "    .colab-df-convert:hover {\n",
              "      background-color: #E2EBFA;\n",
              "      box-shadow: 0px 1px 2px rgba(60, 64, 67, 0.3), 0px 1px 3px 1px rgba(60, 64, 67, 0.15);\n",
              "      fill: #174EA6;\n",
              "    }\n",
              "\n",
              "    [theme=dark] .colab-df-convert {\n",
              "      background-color: #3B4455;\n",
              "      fill: #D2E3FC;\n",
              "    }\n",
              "\n",
              "    [theme=dark] .colab-df-convert:hover {\n",
              "      background-color: #434B5C;\n",
              "      box-shadow: 0px 1px 3px 1px rgba(0, 0, 0, 0.15);\n",
              "      filter: drop-shadow(0px 1px 2px rgba(0, 0, 0, 0.3));\n",
              "      fill: #FFFFFF;\n",
              "    }\n",
              "  </style>\n",
              "\n",
              "      <script>\n",
              "        const buttonEl =\n",
              "          document.querySelector('#df-23716796-7a10-4289-9d52-52cc5fd0e80a button.colab-df-convert');\n",
              "        buttonEl.style.display =\n",
              "          google.colab.kernel.accessAllowed ? 'block' : 'none';\n",
              "\n",
              "        async function convertToInteractive(key) {\n",
              "          const element = document.querySelector('#df-23716796-7a10-4289-9d52-52cc5fd0e80a');\n",
              "          const dataTable =\n",
              "            await google.colab.kernel.invokeFunction('convertToInteractive',\n",
              "                                                     [key], {});\n",
              "          if (!dataTable) return;\n",
              "\n",
              "          const docLinkHtml = 'Like what you see? Visit the ' +\n",
              "            '<a target=\"_blank\" href=https://colab.research.google.com/notebooks/data_table.ipynb>data table notebook</a>'\n",
              "            + ' to learn more about interactive tables.';\n",
              "          element.innerHTML = '';\n",
              "          dataTable['output_type'] = 'display_data';\n",
              "          await google.colab.output.renderOutput(dataTable, element);\n",
              "          const docLink = document.createElement('div');\n",
              "          docLink.innerHTML = docLinkHtml;\n",
              "          element.appendChild(docLink);\n",
              "        }\n",
              "      </script>\n",
              "    </div>\n",
              "  </div>\n",
              "  "
            ]
          },
          "metadata": {},
          "execution_count": 123
        }
      ]
    },
    {
      "cell_type": "code",
      "source": [
        "from sklearn.impute import KNNImputer\n",
        "iknn = KNNImputer(n_neighbors=2)\n",
        "imputed_data = iknn.fit_transform(df)\n",
        "df = pd.DataFrame(imputed_data, columns=df.columns)\n",
        "\n",
        "# Check the DataFrame information after imputation\n",
        "df.info()"
      ],
      "metadata": {
        "colab": {
          "base_uri": "https://localhost:8080/"
        },
        "id": "4WzOBS1icWBR",
        "outputId": "cc8c3d22-f410-497e-e0cc-da884b4d4a52"
      },
      "execution_count": null,
      "outputs": [
        {
          "output_type": "stream",
          "name": "stdout",
          "text": [
            "<class 'pandas.core.frame.DataFrame'>\n",
            "RangeIndex: 8693 entries, 0 to 8692\n",
            "Data columns (total 12 columns):\n",
            " #   Column           Non-Null Count  Dtype  \n",
            "---  ------           --------------  -----  \n",
            " 0   HomePlanet       8693 non-null   float64\n",
            " 1   CryoSleep        8693 non-null   float64\n",
            " 2   Destination      8693 non-null   float64\n",
            " 3   Age              8693 non-null   float64\n",
            " 4   VIP              8693 non-null   float64\n",
            " 5   RoomService      8693 non-null   float64\n",
            " 6   Spa              8693 non-null   float64\n",
            " 7   VRDeck           8693 non-null   float64\n",
            " 8   Transported      8693 non-null   float64\n",
            " 9   traveling_state  8693 non-null   float64\n",
            " 10  Deck             8693 non-null   float64\n",
            " 11  Side             8693 non-null   float64\n",
            "dtypes: float64(12)\n",
            "memory usage: 815.1 KB\n"
          ]
        }
      ]
    },
    {
      "cell_type": "code",
      "source": [],
      "metadata": {
        "id": "mixpWgRCcWI6"
      },
      "execution_count": null,
      "outputs": []
    },
    {
      "cell_type": "code",
      "source": [],
      "metadata": {
        "id": "bW_LPu9-cWLh"
      },
      "execution_count": null,
      "outputs": []
    },
    {
      "cell_type": "code",
      "source": [],
      "metadata": {
        "id": "7IxTLo7WcWOA"
      },
      "execution_count": null,
      "outputs": []
    },
    {
      "cell_type": "code",
      "source": [],
      "metadata": {
        "id": "oIyk8cM3cWQQ"
      },
      "execution_count": null,
      "outputs": []
    },
    {
      "cell_type": "markdown",
      "source": [
        "**Splitting Data**"
      ],
      "metadata": {
        "id": "gcBtSiZphlFL"
      }
    },
    {
      "cell_type": "code",
      "source": [
        "from sklearn.model_selection import train_test_split\n",
        "X = df.drop('Transported', axis=1)\n",
        "y = df['Transported']\n",
        "\n",
        "# Splitting the data into training and testing sets\n",
        "X_train, X_test, y_train, y_test = train_test_split(X, y, test_size=0.2, random_state=42)\n"
      ],
      "metadata": {
        "id": "IMjj_WbQcWSa"
      },
      "execution_count": null,
      "outputs": []
    },
    {
      "cell_type": "markdown",
      "source": [
        "## **ML Models**"
      ],
      "metadata": {
        "id": "7tgOLR-7hej_"
      }
    },
    {
      "cell_type": "markdown",
      "source": [
        "**HGB model**"
      ],
      "metadata": {
        "id": "xcXo4dnzkTSl"
      }
    },
    {
      "cell_type": "code",
      "source": [
        "from sklearn.ensemble._hist_gradient_boosting.gradient_boosting import HistGradientBoostingRegressor\n",
        "from sklearn.ensemble import HistGradientBoostingClassifier\n",
        "\n",
        "# Creating an instance of gbc\n",
        "hgb = HistGradientBoostingClassifier()\n",
        "\n",
        "# Training the gbc model\n",
        "hgb.fit(X_train, y_train)\n",
        "\n",
        "# Making predictions on the test set\n",
        "y_pred =hgb.predict(X_test)\n",
        "\n",
        "# Evaluating the model\n",
        "accuracy = hgb.score(X_test, y_test)\n",
        "print(\"Accuracy:\", accuracy)\n"
      ],
      "metadata": {
        "colab": {
          "base_uri": "https://localhost:8080/"
        },
        "id": "I6odKILpkcbT",
        "outputId": "106a2005-b72f-49f5-b3a6-0a400f2aafb5"
      },
      "execution_count": null,
      "outputs": [
        {
          "output_type": "stream",
          "name": "stdout",
          "text": [
            "Accuracy: 0.7947096032202415\n"
          ]
        }
      ]
    },
    {
      "cell_type": "code",
      "source": [
        "accuracy = hgb.score(X, y)\n",
        "print(\"Accuracy:\", accuracy)"
      ],
      "metadata": {
        "colab": {
          "base_uri": "https://localhost:8080/"
        },
        "id": "DVSXKyi9ojVP",
        "outputId": "a6a21417-2754-47c9-ebfd-76d16f441653"
      },
      "execution_count": null,
      "outputs": [
        {
          "output_type": "stream",
          "name": "stdout",
          "text": [
            "Accuracy: 0.8300931784194179\n"
          ]
        }
      ]
    },
    {
      "cell_type": "code",
      "source": [
        "from ubml.train_test import classification_train_test\n",
        "a,b = classification_train_test(X_train, y_train, X_test, y_test)\n",
        "print(b)\n",
        "a"
      ],
      "metadata": {
        "colab": {
          "base_uri": "https://localhost:8080/",
          "height": 455
        },
        "id": "5v2lfzd5h1EC",
        "outputId": "72d7849d-7670-474d-f2a6-fed68c0ee79f"
      },
      "execution_count": null,
      "outputs": [
        {
          "output_type": "stream",
          "name": "stdout",
          "text": [
            "Random Forest Classifier\n"
          ]
        },
        {
          "output_type": "execute_result",
          "data": {
            "text/plain": [
              "                          accuracy score train  accuracy score test  \\\n",
              "Logistic Regression                      0.774                0.756   \n",
              "KNN Classifier                           0.803                0.733   \n",
              "SVM Classifier                           0.778                0.765   \n",
              "Naive Bayes Classifier                   0.691                0.698   \n",
              "Decision Tree Classifier                 0.920                0.736   \n",
              "Random Forest Classifier                 0.920                0.781   \n",
              "\n",
              "                          f1 score train  f1 score test  recall score train  \\\n",
              "Logistic Regression                0.777          0.762               0.783   \n",
              "KNN Classifier                     0.799          0.734               0.781   \n",
              "SVM Classifier                     0.791          0.782               0.834   \n",
              "Naive Bayes Classifier             0.752          0.756               0.928   \n",
              "Decision Tree Classifier           0.925          0.753               0.971   \n",
              "Random Forest Classifier           0.925          0.788               0.980   \n",
              "\n",
              "                          recall score test  jaccard score train  \\\n",
              "Logistic Regression                   0.773                0.636   \n",
              "KNN Classifier                        0.728                0.666   \n",
              "SVM Classifier                        0.834                0.654   \n",
              "Naive Bayes Classifier                0.927                0.602   \n",
              "Decision Tree Classifier              0.798                0.860   \n",
              "Random Forest Classifier              0.804                0.861   \n",
              "\n",
              "                          jaccard score test  precision score train  \\\n",
              "Logistic Regression                    0.615                  0.772   \n",
              "KNN Classifier                         0.579                  0.819   \n",
              "SVM Classifier                         0.642                  0.752   \n",
              "Naive Bayes Classifier                 0.607                  0.632   \n",
              "Decision Tree Classifier               0.604                  0.882   \n",
              "Random Forest Classifier               0.650                  0.877   \n",
              "\n",
              "                          precision score test  \n",
              "Logistic Regression                      0.750  \n",
              "KNN Classifier                           0.740  \n",
              "SVM Classifier                           0.736  \n",
              "Naive Bayes Classifier                   0.638  \n",
              "Decision Tree Classifier                 0.713  \n",
              "Random Forest Classifier                 0.772  "
            ],
            "text/html": [
              "\n",
              "  <div id=\"df-05604839-4132-44bd-90e1-6c943f913433\">\n",
              "    <div class=\"colab-df-container\">\n",
              "      <div>\n",
              "<style scoped>\n",
              "    .dataframe tbody tr th:only-of-type {\n",
              "        vertical-align: middle;\n",
              "    }\n",
              "\n",
              "    .dataframe tbody tr th {\n",
              "        vertical-align: top;\n",
              "    }\n",
              "\n",
              "    .dataframe thead th {\n",
              "        text-align: right;\n",
              "    }\n",
              "</style>\n",
              "<table border=\"1\" class=\"dataframe\">\n",
              "  <thead>\n",
              "    <tr style=\"text-align: right;\">\n",
              "      <th></th>\n",
              "      <th>accuracy score train</th>\n",
              "      <th>accuracy score test</th>\n",
              "      <th>f1 score train</th>\n",
              "      <th>f1 score test</th>\n",
              "      <th>recall score train</th>\n",
              "      <th>recall score test</th>\n",
              "      <th>jaccard score train</th>\n",
              "      <th>jaccard score test</th>\n",
              "      <th>precision score train</th>\n",
              "      <th>precision score test</th>\n",
              "    </tr>\n",
              "  </thead>\n",
              "  <tbody>\n",
              "    <tr>\n",
              "      <th>Logistic Regression</th>\n",
              "      <td>0.774</td>\n",
              "      <td>0.756</td>\n",
              "      <td>0.777</td>\n",
              "      <td>0.762</td>\n",
              "      <td>0.783</td>\n",
              "      <td>0.773</td>\n",
              "      <td>0.636</td>\n",
              "      <td>0.615</td>\n",
              "      <td>0.772</td>\n",
              "      <td>0.750</td>\n",
              "    </tr>\n",
              "    <tr>\n",
              "      <th>KNN Classifier</th>\n",
              "      <td>0.803</td>\n",
              "      <td>0.733</td>\n",
              "      <td>0.799</td>\n",
              "      <td>0.734</td>\n",
              "      <td>0.781</td>\n",
              "      <td>0.728</td>\n",
              "      <td>0.666</td>\n",
              "      <td>0.579</td>\n",
              "      <td>0.819</td>\n",
              "      <td>0.740</td>\n",
              "    </tr>\n",
              "    <tr>\n",
              "      <th>SVM Classifier</th>\n",
              "      <td>0.778</td>\n",
              "      <td>0.765</td>\n",
              "      <td>0.791</td>\n",
              "      <td>0.782</td>\n",
              "      <td>0.834</td>\n",
              "      <td>0.834</td>\n",
              "      <td>0.654</td>\n",
              "      <td>0.642</td>\n",
              "      <td>0.752</td>\n",
              "      <td>0.736</td>\n",
              "    </tr>\n",
              "    <tr>\n",
              "      <th>Naive Bayes Classifier</th>\n",
              "      <td>0.691</td>\n",
              "      <td>0.698</td>\n",
              "      <td>0.752</td>\n",
              "      <td>0.756</td>\n",
              "      <td>0.928</td>\n",
              "      <td>0.927</td>\n",
              "      <td>0.602</td>\n",
              "      <td>0.607</td>\n",
              "      <td>0.632</td>\n",
              "      <td>0.638</td>\n",
              "    </tr>\n",
              "    <tr>\n",
              "      <th>Decision Tree Classifier</th>\n",
              "      <td>0.920</td>\n",
              "      <td>0.736</td>\n",
              "      <td>0.925</td>\n",
              "      <td>0.753</td>\n",
              "      <td>0.971</td>\n",
              "      <td>0.798</td>\n",
              "      <td>0.860</td>\n",
              "      <td>0.604</td>\n",
              "      <td>0.882</td>\n",
              "      <td>0.713</td>\n",
              "    </tr>\n",
              "    <tr>\n",
              "      <th>Random Forest Classifier</th>\n",
              "      <td>0.920</td>\n",
              "      <td>0.781</td>\n",
              "      <td>0.925</td>\n",
              "      <td>0.788</td>\n",
              "      <td>0.980</td>\n",
              "      <td>0.804</td>\n",
              "      <td>0.861</td>\n",
              "      <td>0.650</td>\n",
              "      <td>0.877</td>\n",
              "      <td>0.772</td>\n",
              "    </tr>\n",
              "  </tbody>\n",
              "</table>\n",
              "</div>\n",
              "      <button class=\"colab-df-convert\" onclick=\"convertToInteractive('df-05604839-4132-44bd-90e1-6c943f913433')\"\n",
              "              title=\"Convert this dataframe to an interactive table.\"\n",
              "              style=\"display:none;\">\n",
              "        \n",
              "  <svg xmlns=\"http://www.w3.org/2000/svg\" height=\"24px\"viewBox=\"0 0 24 24\"\n",
              "       width=\"24px\">\n",
              "    <path d=\"M0 0h24v24H0V0z\" fill=\"none\"/>\n",
              "    <path d=\"M18.56 5.44l.94 2.06.94-2.06 2.06-.94-2.06-.94-.94-2.06-.94 2.06-2.06.94zm-11 1L8.5 8.5l.94-2.06 2.06-.94-2.06-.94L8.5 2.5l-.94 2.06-2.06.94zm10 10l.94 2.06.94-2.06 2.06-.94-2.06-.94-.94-2.06-.94 2.06-2.06.94z\"/><path d=\"M17.41 7.96l-1.37-1.37c-.4-.4-.92-.59-1.43-.59-.52 0-1.04.2-1.43.59L10.3 9.45l-7.72 7.72c-.78.78-.78 2.05 0 2.83L4 21.41c.39.39.9.59 1.41.59.51 0 1.02-.2 1.41-.59l7.78-7.78 2.81-2.81c.8-.78.8-2.07 0-2.86zM5.41 20L4 18.59l7.72-7.72 1.47 1.35L5.41 20z\"/>\n",
              "  </svg>\n",
              "      </button>\n",
              "      \n",
              "  <style>\n",
              "    .colab-df-container {\n",
              "      display:flex;\n",
              "      flex-wrap:wrap;\n",
              "      gap: 12px;\n",
              "    }\n",
              "\n",
              "    .colab-df-convert {\n",
              "      background-color: #E8F0FE;\n",
              "      border: none;\n",
              "      border-radius: 50%;\n",
              "      cursor: pointer;\n",
              "      display: none;\n",
              "      fill: #1967D2;\n",
              "      height: 32px;\n",
              "      padding: 0 0 0 0;\n",
              "      width: 32px;\n",
              "    }\n",
              "\n",
              "    .colab-df-convert:hover {\n",
              "      background-color: #E2EBFA;\n",
              "      box-shadow: 0px 1px 2px rgba(60, 64, 67, 0.3), 0px 1px 3px 1px rgba(60, 64, 67, 0.15);\n",
              "      fill: #174EA6;\n",
              "    }\n",
              "\n",
              "    [theme=dark] .colab-df-convert {\n",
              "      background-color: #3B4455;\n",
              "      fill: #D2E3FC;\n",
              "    }\n",
              "\n",
              "    [theme=dark] .colab-df-convert:hover {\n",
              "      background-color: #434B5C;\n",
              "      box-shadow: 0px 1px 3px 1px rgba(0, 0, 0, 0.15);\n",
              "      filter: drop-shadow(0px 1px 2px rgba(0, 0, 0, 0.3));\n",
              "      fill: #FFFFFF;\n",
              "    }\n",
              "  </style>\n",
              "\n",
              "      <script>\n",
              "        const buttonEl =\n",
              "          document.querySelector('#df-05604839-4132-44bd-90e1-6c943f913433 button.colab-df-convert');\n",
              "        buttonEl.style.display =\n",
              "          google.colab.kernel.accessAllowed ? 'block' : 'none';\n",
              "\n",
              "        async function convertToInteractive(key) {\n",
              "          const element = document.querySelector('#df-05604839-4132-44bd-90e1-6c943f913433');\n",
              "          const dataTable =\n",
              "            await google.colab.kernel.invokeFunction('convertToInteractive',\n",
              "                                                     [key], {});\n",
              "          if (!dataTable) return;\n",
              "\n",
              "          const docLinkHtml = 'Like what you see? Visit the ' +\n",
              "            '<a target=\"_blank\" href=https://colab.research.google.com/notebooks/data_table.ipynb>data table notebook</a>'\n",
              "            + ' to learn more about interactive tables.';\n",
              "          element.innerHTML = '';\n",
              "          dataTable['output_type'] = 'display_data';\n",
              "          await google.colab.output.renderOutput(dataTable, element);\n",
              "          const docLink = document.createElement('div');\n",
              "          docLink.innerHTML = docLinkHtml;\n",
              "          element.appendChild(docLink);\n",
              "        }\n",
              "      </script>\n",
              "    </div>\n",
              "  </div>\n",
              "  "
            ]
          },
          "metadata": {},
          "execution_count": 131
        }
      ]
    },
    {
      "cell_type": "markdown",
      "source": [
        "**Random Forest Classidier**"
      ],
      "metadata": {
        "id": "kQsTTzEMkEkA"
      }
    },
    {
      "cell_type": "code",
      "source": [
        "from sklearn.ensemble import RandomForestClassifier\n"
      ],
      "metadata": {
        "id": "H-_BDLh1h1Jb"
      },
      "execution_count": null,
      "outputs": []
    },
    {
      "cell_type": "code",
      "source": [
        "rf_classifier = RandomForestClassifier(n_estimators=100, random_state=42)\n",
        "\n",
        "# Fit the classifier to your training data\n",
        "rf_classifier.fit(X_train, y_train)\n",
        "\n",
        "# Predict using the trained classifier\n",
        "y_pred = rf_classifier.predict(X_test)"
      ],
      "metadata": {
        "id": "V2SS0OFVh1Ly"
      },
      "execution_count": null,
      "outputs": []
    },
    {
      "cell_type": "code",
      "source": [
        "accuracy = rf_classifier.score(X_test, y_test)\n",
        "print(\"Accuracy:\", accuracy)"
      ],
      "metadata": {
        "colab": {
          "base_uri": "https://localhost:8080/"
        },
        "id": "7bJAJdSvh1Of",
        "outputId": "f4bd8e22-7bd4-44ae-a119-cbe43a3ebee1"
      },
      "execution_count": null,
      "outputs": [
        {
          "output_type": "stream",
          "name": "stdout",
          "text": [
            "Accuracy: 0.777458309373203\n"
          ]
        }
      ]
    },
    {
      "cell_type": "markdown",
      "source": [
        "**choosing between models**"
      ],
      "metadata": {
        "id": "rcH6xBB50amS"
      }
    },
    {
      "cell_type": "code",
      "source": [
        "from sklearn.linear_model import LogisticRegression\n",
        "from sklearn.tree import DecisionTreeClassifier\n",
        "from sklearn.ensemble import RandomForestClassifier, GradientBoostingClassifier, AdaBoostClassifier\n",
        "from sklearn.svm import SVC\n",
        "from sklearn.neighbors import KNeighborsClassifier\n",
        "from sklearn.naive_bayes import GaussianNB\n",
        "from sklearn.neural_network import MLPClassifier\n",
        "from sklearn.gaussian_process import GaussianProcessClassifier\n",
        "from sklearn.ensemble import HistGradientBoostingClassifier\n",
        "\n"
      ],
      "metadata": {
        "id": "ZCWELMGVh1Q1"
      },
      "execution_count": null,
      "outputs": []
    },
    {
      "cell_type": "code",
      "source": [
        "score=[]\n",
        "models=[LogisticRegression(),DecisionTreeClassifier(),GradientBoostingClassifier(),\n",
        "        AdaBoostClassifier(),SVC(),MLPClassifier(),GaussianProcessClassifier()\n",
        "        ,HistGradientBoostingClassifier()]\n",
        "for m in models:\n",
        "  m.fit(X_train, y_train)\n",
        "  y_pred = m.predict(X_test)\n",
        "  score.append(m.score(X_test, y_test))\n",
        "  score"
      ],
      "metadata": {
        "id": "LeIPcZXph1TM"
      },
      "execution_count": null,
      "outputs": []
    },
    {
      "cell_type": "code",
      "source": [
        "score"
      ],
      "metadata": {
        "colab": {
          "base_uri": "https://localhost:8080/"
        },
        "id": "6vZntIgKh1Vp",
        "outputId": "7052bd1d-3d78-4495-e000-0b17ea3e603a"
      },
      "execution_count": null,
      "outputs": [
        {
          "output_type": "execute_result",
          "data": {
            "text/plain": [
              "[0.7556066705002875,\n",
              " 0.7395054629097182,\n",
              " 0.7878090856814262,\n",
              " 0.780333525014376,\n",
              " 0.7648073605520413,\n",
              " 0.7751581368602645,\n",
              " 0.7245543415756182,\n",
              " 0.7947096032202415]"
            ]
          },
          "metadata": {},
          "execution_count": 179
        }
      ]
    },
    {
      "cell_type": "code",
      "source": [],
      "metadata": {
        "id": "r4494wMjcxRS"
      },
      "execution_count": null,
      "outputs": []
    },
    {
      "cell_type": "markdown",
      "source": [
        "# **Classifying the test data**"
      ],
      "metadata": {
        "id": "tIf0PNxJh2af"
      }
    },
    {
      "cell_type": "code",
      "source": [
        "test=pd.read_csv('/content/test.csv')\n",
        "test['group'] = test['PassengerId'].str.split('_',expand=True)[0]\n",
        "test['number'] = test['PassengerId'].str.split('_',expand=True)[1]\n",
        "\n",
        "group_list =test['group'].tolist()\n",
        "traveling_state=[''] * len(group_list)\n",
        "\n",
        "for group in set(group_list):\n",
        "    if group_list.count(group)>1:\n",
        "        indexes=[]\n",
        "        for i in range(len(group_list)):\n",
        "\n",
        "            if group_list[i]==group:\n",
        "                indexes.append(i)\n",
        "\n",
        "        for index in indexes:\n",
        "            traveling_state[index]='family'\n",
        "\n",
        "    else:\n",
        "        traveling_state[group_list.index(group)]='alone'\n",
        "test['traveling_state']=pd.DataFrame(traveling_state)\n",
        "test=test.drop(['PassengerId','group','number'],axis=1)\n",
        "test[['Deck','Num','Side']]=test['Cabin'].str.split('/',expand=True)\n",
        "test=test.drop('Cabin',axis=1)\n",
        "test['Age']=np.where(test['Age']<12,'kid','adult')\n"
      ],
      "metadata": {
        "id": "zdhEW5UnosLz"
      },
      "execution_count": null,
      "outputs": []
    },
    {
      "cell_type": "code",
      "source": [
        "test=finaldb(test)"
      ],
      "metadata": {
        "id": "pRImmDUmpyuT"
      },
      "execution_count": null,
      "outputs": []
    },
    {
      "cell_type": "code",
      "source": [
        "test.info()"
      ],
      "metadata": {
        "colab": {
          "base_uri": "https://localhost:8080/"
        },
        "id": "5U-guWT6lEvj",
        "outputId": "d974deca-407a-4b95-b279-f2bd7fdf1b35"
      },
      "execution_count": null,
      "outputs": [
        {
          "output_type": "stream",
          "name": "stdout",
          "text": [
            "<class 'pandas.core.frame.DataFrame'>\n",
            "RangeIndex: 4277 entries, 0 to 4276\n",
            "Data columns (total 11 columns):\n",
            " #   Column           Non-Null Count  Dtype  \n",
            "---  ------           --------------  -----  \n",
            " 0   HomePlanet       4277 non-null   int64  \n",
            " 1   CryoSleep        4277 non-null   int64  \n",
            " 2   Destination      4277 non-null   int64  \n",
            " 3   Age              4277 non-null   int64  \n",
            " 4   VIP              4277 non-null   int64  \n",
            " 5   RoomService      4195 non-null   float64\n",
            " 6   Spa              4176 non-null   float64\n",
            " 7   VRDeck           4197 non-null   float64\n",
            " 8   traveling_state  4277 non-null   int64  \n",
            " 9   Deck             4277 non-null   int64  \n",
            " 10  Side             4277 non-null   int64  \n",
            "dtypes: float64(3), int64(8)\n",
            "memory usage: 367.7 KB\n"
          ]
        }
      ]
    },
    {
      "cell_type": "code",
      "source": [
        "imputed_test = iknn.fit_transform(test)\n",
        "\n",
        "test= pd.DataFrame(imputed_test, columns=test.columns)"
      ],
      "metadata": {
        "id": "TOVWu4sflhvL"
      },
      "execution_count": null,
      "outputs": []
    },
    {
      "cell_type": "code",
      "source": [
        "test.info()"
      ],
      "metadata": {
        "colab": {
          "base_uri": "https://localhost:8080/"
        },
        "id": "DhhD6QIHlyiE",
        "outputId": "01e0f7aa-9d91-4a55-8388-f9f5fc43b5ca"
      },
      "execution_count": null,
      "outputs": [
        {
          "output_type": "stream",
          "name": "stdout",
          "text": [
            "<class 'pandas.core.frame.DataFrame'>\n",
            "RangeIndex: 4277 entries, 0 to 4276\n",
            "Data columns (total 11 columns):\n",
            " #   Column           Non-Null Count  Dtype  \n",
            "---  ------           --------------  -----  \n",
            " 0   HomePlanet       4277 non-null   float64\n",
            " 1   CryoSleep        4277 non-null   float64\n",
            " 2   Destination      4277 non-null   float64\n",
            " 3   Age              4277 non-null   float64\n",
            " 4   VIP              4277 non-null   float64\n",
            " 5   RoomService      4277 non-null   float64\n",
            " 6   Spa              4277 non-null   float64\n",
            " 7   VRDeck           4277 non-null   float64\n",
            " 8   traveling_state  4277 non-null   float64\n",
            " 9   Deck             4277 non-null   float64\n",
            " 10  Side             4277 non-null   float64\n",
            "dtypes: float64(11)\n",
            "memory usage: 367.7 KB\n"
          ]
        }
      ]
    },
    {
      "cell_type": "code",
      "source": [
        "\n",
        "submission=model.predict(test)"
      ],
      "metadata": {
        "colab": {
          "base_uri": "https://localhost:8080/"
        },
        "id": "IKNctpkQp_gb",
        "outputId": "e211c5b3-a755-47b0-df17-be75c741e2be"
      },
      "execution_count": null,
      "outputs": [
        {
          "output_type": "stream",
          "name": "stdout",
          "text": [
            "134/134 [==============================] - 0s 1ms/step\n"
          ]
        }
      ]
    },
    {
      "cell_type": "code",
      "source": [
        "hgbc=HistGradientBoostingClassifier(learning_rate=0.1,max_depth=10,min_samples_leaf=3)\n",
        "hgbc.fit(X_train,y_train)\n",
        "submission=hgbc.predict(test)"
      ],
      "metadata": {
        "id": "vLqC7jfFlNYq"
      },
      "execution_count": null,
      "outputs": []
    },
    {
      "cell_type": "code",
      "source": [
        "from sklearn.model_selection import GridSearchCV\n",
        "\n",
        "model = HistGradientBoostingClassifier()\n",
        "\n",
        "# Define the parameter grid for grid search\n",
        "param_grid = {\n",
        "    'learning_rate': [0.1, 0.01, 0.001,0.0001],\n",
        "    'max_depth': [3, 5, 7 , 10],\n",
        "    'min_samples_leaf': [1, 3, 5,8]\n",
        "}\n",
        "\n",
        "# Perform grid search with cross-validation\n",
        "grid_search = GridSearchCV(model, param_grid, cv=5)\n",
        "grid_search.fit(X_train, y_train)\n",
        "\n",
        "# Print the best parameters and the best score\n",
        "print(\"Best Parameters:\", grid_search.best_params_)\n",
        "print(\"Best Score:\", grid_search.best_score_)"
      ],
      "metadata": {
        "colab": {
          "base_uri": "https://localhost:8080/"
        },
        "id": "EHaPVAAlBauG",
        "outputId": "b149242c-f20f-4453-ff6e-31eda9b2e549"
      },
      "execution_count": null,
      "outputs": [
        {
          "output_type": "stream",
          "name": "stdout",
          "text": [
            "Best Parameters: {'learning_rate': 0.1, 'max_depth': 10, 'min_samples_leaf': 3}\n",
            "Best Score: 0.8005483348763118\n"
          ]
        }
      ]
    },
    {
      "cell_type": "code",
      "source": [
        "converted_submission = []\n",
        "\n",
        "for i in submission:\n",
        "    if i == 1:\n",
        "        converted_submission.append(True)\n",
        "    else:\n",
        "        converted_submission.append(False)"
      ],
      "metadata": {
        "id": "CIvnIBZ2tzA9"
      },
      "execution_count": null,
      "outputs": []
    },
    {
      "cell_type": "code",
      "source": [
        "data=pd.read_csv('/content/test.csv')"
      ],
      "metadata": {
        "id": "-Vg93wSamVTr"
      },
      "execution_count": null,
      "outputs": []
    },
    {
      "cell_type": "code",
      "source": [
        "s = pd.DataFrame({'PassengerId': data['PassengerId'], 'Transported': converted_submission})\n",
        "\n",
        "s.to_csv('NN.csv', index=False)"
      ],
      "metadata": {
        "id": "8csPh4hDl6H6"
      },
      "execution_count": null,
      "outputs": []
    },
    {
      "cell_type": "code",
      "source": [],
      "metadata": {
        "id": "lQbVHGW0nGi9"
      },
      "execution_count": null,
      "outputs": []
    }
  ]
}